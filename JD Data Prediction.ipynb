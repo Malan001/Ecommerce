{
 "cells": [
  {
   "cell_type": "markdown",
   "id": "156eea6f",
   "metadata": {},
   "source": [
    "### Purpose of the Project"
   ]
  },
  {
   "cell_type": "markdown",
   "id": "191cade5",
   "metadata": {},
   "source": [
    "The aim of the project is to examine the indicators in JD.com's e-commerce operation data set, with the goal of gaining insight into user shopping behavior and offering support and suggestions to aid in operational decision-making"
   ]
  },
  {
   "cell_type": "markdown",
   "id": "45993940",
   "metadata": {},
   "source": [
    "### Columns Explanation"
   ]
  },
  {
   "cell_type": "markdown",
   "id": "5a4ac449",
   "metadata": {},
   "source": [
    "user_id: user primary key\n",
    "sku_id: product unique primary key\n",
    "action_time: customer activity time\n",
    "type: behavior type 1--browser 2--purchase 3--customers closely watch on the product 4--review 5--add in the cart"
   ]
  },
  {
   "cell_type": "code",
   "execution_count": 1,
   "id": "69b0ae80",
   "metadata": {},
   "outputs": [],
   "source": [
    "# Import basic data manupulation library\n",
    "import pandas as pd\n",
    "import numpy as np\n",
    "import matplotlib.pyplot as plt\n",
    "import seaborn as sb"
   ]
  },
  {
   "cell_type": "code",
   "execution_count": 2,
   "id": "49f64235",
   "metadata": {},
   "outputs": [],
   "source": [
    "from datetime import datetime\n",
    "plt.style.use('ggplot')"
   ]
  },
  {
   "cell_type": "code",
   "execution_count": 3,
   "id": "592195b9",
   "metadata": {},
   "outputs": [],
   "source": [
    "%matplotlib inline"
   ]
  },
  {
   "cell_type": "code",
   "execution_count": 4,
   "id": "a4556c9a",
   "metadata": {},
   "outputs": [],
   "source": [
    "plt.rcParams['font.sans-serif']=['SimHei']\n",
    "plt.rcParams['axes.unicode_minus']=False"
   ]
  },
  {
   "cell_type": "markdown",
   "id": "fe6023b9",
   "metadata": {},
   "source": [
    "### Clean the data"
   ]
  },
  {
   "cell_type": "code",
   "execution_count": 5,
   "id": "774f2047",
   "metadata": {},
   "outputs": [],
   "source": [
    "user_action = pd.read_csv('C:/Users/16693/Desktop/data parctice/input/jdata_action.csv')"
   ]
  },
  {
   "cell_type": "code",
   "execution_count": 6,
   "id": "68fcbfc3",
   "metadata": {},
   "outputs": [
    {
     "data": {
      "text/html": [
       "<div>\n",
       "<style scoped>\n",
       "    .dataframe tbody tr th:only-of-type {\n",
       "        vertical-align: middle;\n",
       "    }\n",
       "\n",
       "    .dataframe tbody tr th {\n",
       "        vertical-align: top;\n",
       "    }\n",
       "\n",
       "    .dataframe thead th {\n",
       "        text-align: right;\n",
       "    }\n",
       "</style>\n",
       "<table border=\"1\" class=\"dataframe\">\n",
       "  <thead>\n",
       "    <tr style=\"text-align: right;\">\n",
       "      <th></th>\n",
       "      <th>user_id</th>\n",
       "      <th>sku_id</th>\n",
       "      <th>action_time</th>\n",
       "      <th>module_id</th>\n",
       "      <th>type</th>\n",
       "    </tr>\n",
       "  </thead>\n",
       "  <tbody>\n",
       "    <tr>\n",
       "      <th>0</th>\n",
       "      <td>937922</td>\n",
       "      <td>357022</td>\n",
       "      <td>2018-02-04 08:28:15</td>\n",
       "      <td>8107857</td>\n",
       "      <td>1</td>\n",
       "    </tr>\n",
       "    <tr>\n",
       "      <th>1</th>\n",
       "      <td>937922</td>\n",
       "      <td>73</td>\n",
       "      <td>2018-02-04 08:27:07</td>\n",
       "      <td>8107857</td>\n",
       "      <td>1</td>\n",
       "    </tr>\n",
       "    <tr>\n",
       "      <th>2</th>\n",
       "      <td>937922</td>\n",
       "      <td>29583</td>\n",
       "      <td>2018-02-04 08:26:31</td>\n",
       "      <td>8107857</td>\n",
       "      <td>1</td>\n",
       "    </tr>\n",
       "    <tr>\n",
       "      <th>3</th>\n",
       "      <td>937922</td>\n",
       "      <td>108763</td>\n",
       "      <td>2018-02-04 08:26:10</td>\n",
       "      <td>8107857</td>\n",
       "      <td>1</td>\n",
       "    </tr>\n",
       "    <tr>\n",
       "      <th>4</th>\n",
       "      <td>1369473</td>\n",
       "      <td>331139</td>\n",
       "      <td>2018-02-03 21:55:49</td>\n",
       "      <td>3712240</td>\n",
       "      <td>1</td>\n",
       "    </tr>\n",
       "  </tbody>\n",
       "</table>\n",
       "</div>"
      ],
      "text/plain": [
       "   user_id  sku_id          action_time  module_id  type\n",
       "0   937922  357022  2018-02-04 08:28:15    8107857     1\n",
       "1   937922      73  2018-02-04 08:27:07    8107857     1\n",
       "2   937922   29583  2018-02-04 08:26:31    8107857     1\n",
       "3   937922  108763  2018-02-04 08:26:10    8107857     1\n",
       "4  1369473  331139  2018-02-03 21:55:49    3712240     1"
      ]
     },
     "execution_count": 6,
     "metadata": {},
     "output_type": "execute_result"
    }
   ],
   "source": [
    "user_action.head()"
   ]
  },
  {
   "cell_type": "code",
   "execution_count": 7,
   "id": "79ae0c63",
   "metadata": {},
   "outputs": [],
   "source": [
    "# Select the time beween 2018-3-30 to 2018-4-15 \n",
    "user_data = user_action[(user_action.action_time>'2018-03-30') & (user_action.action_time<'2018-04-15')]"
   ]
  },
  {
   "cell_type": "code",
   "execution_count": 8,
   "id": "265b0f8e",
   "metadata": {},
   "outputs": [],
   "source": [
    "# Save the behavior data\n",
    "user_data.to_csv('behavior_data.csv',sep = ',')"
   ]
  },
  {
   "cell_type": "code",
   "execution_count": 9,
   "id": "937f4b32",
   "metadata": {},
   "outputs": [
    {
     "name": "stderr",
     "output_type": "stream",
     "text": [
      "C:\\ProgramData\\Anaconda3\\lib\\site-packages\\numpy\\lib\\arraysetops.py:583: FutureWarning: elementwise comparison failed; returning scalar instead, but in the future will perform elementwise comparison\n",
      "  mask |= (ar1 == a)\n"
     ]
    }
   ],
   "source": [
    "# Output the dataset\n",
    "behavior_data = pd.read_csv('behavior_data.csv',index_col=0)"
   ]
  },
  {
   "cell_type": "code",
   "execution_count": 10,
   "id": "ad5446c1",
   "metadata": {},
   "outputs": [
    {
     "data": {
      "text/html": [
       "<div>\n",
       "<style scoped>\n",
       "    .dataframe tbody tr th:only-of-type {\n",
       "        vertical-align: middle;\n",
       "    }\n",
       "\n",
       "    .dataframe tbody tr th {\n",
       "        vertical-align: top;\n",
       "    }\n",
       "\n",
       "    .dataframe thead th {\n",
       "        text-align: right;\n",
       "    }\n",
       "</style>\n",
       "<table border=\"1\" class=\"dataframe\">\n",
       "  <thead>\n",
       "    <tr style=\"text-align: right;\">\n",
       "      <th></th>\n",
       "      <th>user_id</th>\n",
       "      <th>sku_id</th>\n",
       "      <th>action_time</th>\n",
       "      <th>module_id</th>\n",
       "      <th>type</th>\n",
       "    </tr>\n",
       "  </thead>\n",
       "  <tbody>\n",
       "    <tr>\n",
       "      <th>17</th>\n",
       "      <td>1455298</td>\n",
       "      <td>208441</td>\n",
       "      <td>2018-04-11 15:21:43</td>\n",
       "      <td>6190659</td>\n",
       "      <td>1</td>\n",
       "    </tr>\n",
       "    <tr>\n",
       "      <th>18</th>\n",
       "      <td>1455298</td>\n",
       "      <td>334318</td>\n",
       "      <td>2018-04-11 15:14:54</td>\n",
       "      <td>6190659</td>\n",
       "      <td>1</td>\n",
       "    </tr>\n",
       "    <tr>\n",
       "      <th>19</th>\n",
       "      <td>1455298</td>\n",
       "      <td>237755</td>\n",
       "      <td>2018-04-11 15:14:13</td>\n",
       "      <td>6190659</td>\n",
       "      <td>1</td>\n",
       "    </tr>\n",
       "    <tr>\n",
       "      <th>20</th>\n",
       "      <td>1455298</td>\n",
       "      <td>6422</td>\n",
       "      <td>2018-04-11 15:22:25</td>\n",
       "      <td>6190659</td>\n",
       "      <td>1</td>\n",
       "    </tr>\n",
       "    <tr>\n",
       "      <th>21</th>\n",
       "      <td>1455298</td>\n",
       "      <td>268566</td>\n",
       "      <td>2018-04-11 15:14:26</td>\n",
       "      <td>6190659</td>\n",
       "      <td>1</td>\n",
       "    </tr>\n",
       "  </tbody>\n",
       "</table>\n",
       "</div>"
      ],
      "text/plain": [
       "    user_id  sku_id          action_time  module_id  type\n",
       "17  1455298  208441  2018-04-11 15:21:43    6190659     1\n",
       "18  1455298  334318  2018-04-11 15:14:54    6190659     1\n",
       "19  1455298  237755  2018-04-11 15:14:13    6190659     1\n",
       "20  1455298    6422  2018-04-11 15:22:25    6190659     1\n",
       "21  1455298  268566  2018-04-11 15:14:26    6190659     1"
      ]
     },
     "execution_count": 10,
     "metadata": {},
     "output_type": "execute_result"
    }
   ],
   "source": [
    "# Import the dataset again\n",
    "behavior_data.head()"
   ]
  },
  {
   "cell_type": "code",
   "execution_count": 11,
   "id": "209a7bda",
   "metadata": {},
   "outputs": [
    {
     "name": "stdout",
     "output_type": "stream",
     "text": [
      "<class 'pandas.core.frame.DataFrame'>\n",
      "Int64Index: 7540394 entries, 17 to 37214234\n",
      "Data columns (total 5 columns):\n",
      " #   Column       Dtype \n",
      "---  ------       ----- \n",
      " 0   user_id      int64 \n",
      " 1   sku_id       int64 \n",
      " 2   action_time  object\n",
      " 3   module_id    int64 \n",
      " 4   type         int64 \n",
      "dtypes: int64(4), object(1)\n",
      "memory usage: 345.2+ MB\n"
     ]
    }
   ],
   "source": [
    "behavior_data.info()"
   ]
  },
  {
   "cell_type": "code",
   "execution_count": 12,
   "id": "555b5003",
   "metadata": {},
   "outputs": [
    {
     "data": {
      "text/plain": [
       "user_id        0\n",
       "sku_id         0\n",
       "action_time    0\n",
       "module_id      0\n",
       "type           0\n",
       "dtype: int64"
      ]
     },
     "execution_count": 12,
     "metadata": {},
     "output_type": "execute_result"
    }
   ],
   "source": [
    "# No NA.\n",
    "behavior_data.isna().sum()"
   ]
  },
  {
   "cell_type": "code",
   "execution_count": 13,
   "id": "58742f63",
   "metadata": {},
   "outputs": [],
   "source": [
    "#Split day, hour and week to do analysis\n",
    "behavior_data['date'] = pd.to_datetime(behavior_data['action_time']).dt.date\n",
    "behavior_data['hour'] = pd.to_datetime(behavior_data['action_time']).dt.hour\n",
    "behavior_data['week'] = pd.to_datetime(behavior_data['action_time']).dt.strftime('%A')"
   ]
  },
  {
   "cell_type": "code",
   "execution_count": 14,
   "id": "f3a219fc",
   "metadata": {},
   "outputs": [
    {
     "data": {
      "text/plain": [
       "Friday       1406980\n",
       "Saturday     1388631\n",
       "Tuesday       981200\n",
       "Monday        966219\n",
       "Thursday      949741\n",
       "Sunday        924409\n",
       "Wednesday     923214\n",
       "Name: week, dtype: int64"
      ]
     },
     "execution_count": 14,
     "metadata": {},
     "output_type": "execute_result"
    }
   ],
   "source": [
    "behavior_data.week.value_counts()"
   ]
  },
  {
   "cell_type": "code",
   "execution_count": 15,
   "id": "2ce81960",
   "metadata": {},
   "outputs": [],
   "source": [
    "# drop useless column module_id\n",
    "behavior_data = behavior_data.drop('module_id',axis = 1)"
   ]
  },
  {
   "cell_type": "code",
   "execution_count": 16,
   "id": "37eced27",
   "metadata": {},
   "outputs": [
    {
     "data": {
      "text/html": [
       "<div>\n",
       "<style scoped>\n",
       "    .dataframe tbody tr th:only-of-type {\n",
       "        vertical-align: middle;\n",
       "    }\n",
       "\n",
       "    .dataframe tbody tr th {\n",
       "        vertical-align: top;\n",
       "    }\n",
       "\n",
       "    .dataframe thead th {\n",
       "        text-align: right;\n",
       "    }\n",
       "</style>\n",
       "<table border=\"1\" class=\"dataframe\">\n",
       "  <thead>\n",
       "    <tr style=\"text-align: right;\">\n",
       "      <th></th>\n",
       "      <th>user_id</th>\n",
       "      <th>sku_id</th>\n",
       "      <th>action_time</th>\n",
       "      <th>type</th>\n",
       "      <th>date</th>\n",
       "      <th>hour</th>\n",
       "      <th>week</th>\n",
       "    </tr>\n",
       "  </thead>\n",
       "  <tbody>\n",
       "    <tr>\n",
       "      <th>17</th>\n",
       "      <td>1455298</td>\n",
       "      <td>208441</td>\n",
       "      <td>2018-04-11 15:21:43</td>\n",
       "      <td>1</td>\n",
       "      <td>2018-04-11</td>\n",
       "      <td>15</td>\n",
       "      <td>Wednesday</td>\n",
       "    </tr>\n",
       "    <tr>\n",
       "      <th>18</th>\n",
       "      <td>1455298</td>\n",
       "      <td>334318</td>\n",
       "      <td>2018-04-11 15:14:54</td>\n",
       "      <td>1</td>\n",
       "      <td>2018-04-11</td>\n",
       "      <td>15</td>\n",
       "      <td>Wednesday</td>\n",
       "    </tr>\n",
       "    <tr>\n",
       "      <th>19</th>\n",
       "      <td>1455298</td>\n",
       "      <td>237755</td>\n",
       "      <td>2018-04-11 15:14:13</td>\n",
       "      <td>1</td>\n",
       "      <td>2018-04-11</td>\n",
       "      <td>15</td>\n",
       "      <td>Wednesday</td>\n",
       "    </tr>\n",
       "    <tr>\n",
       "      <th>20</th>\n",
       "      <td>1455298</td>\n",
       "      <td>6422</td>\n",
       "      <td>2018-04-11 15:22:25</td>\n",
       "      <td>1</td>\n",
       "      <td>2018-04-11</td>\n",
       "      <td>15</td>\n",
       "      <td>Wednesday</td>\n",
       "    </tr>\n",
       "    <tr>\n",
       "      <th>21</th>\n",
       "      <td>1455298</td>\n",
       "      <td>268566</td>\n",
       "      <td>2018-04-11 15:14:26</td>\n",
       "      <td>1</td>\n",
       "      <td>2018-04-11</td>\n",
       "      <td>15</td>\n",
       "      <td>Wednesday</td>\n",
       "    </tr>\n",
       "  </tbody>\n",
       "</table>\n",
       "</div>"
      ],
      "text/plain": [
       "    user_id  sku_id          action_time  type        date  hour       week\n",
       "17  1455298  208441  2018-04-11 15:21:43     1  2018-04-11    15  Wednesday\n",
       "18  1455298  334318  2018-04-11 15:14:54     1  2018-04-11    15  Wednesday\n",
       "19  1455298  237755  2018-04-11 15:14:13     1  2018-04-11    15  Wednesday\n",
       "20  1455298    6422  2018-04-11 15:22:25     1  2018-04-11    15  Wednesday\n",
       "21  1455298  268566  2018-04-11 15:14:26     1  2018-04-11    15  Wednesday"
      ]
     },
     "execution_count": 16,
     "metadata": {},
     "output_type": "execute_result"
    }
   ],
   "source": [
    "behavior_data.head()"
   ]
  },
  {
   "cell_type": "code",
   "execution_count": 17,
   "id": "0d247981",
   "metadata": {},
   "outputs": [],
   "source": [
    "# Replace the type with letter\n",
    "behavior_type = {1:'pv', 2:'pay',3:'fav',4:'comm',5:'cart'}\n",
    "behavior_data['type'] = behavior_data.type.apply(lambda x: behavior_type[x])"
   ]
  },
  {
   "cell_type": "code",
   "execution_count": 18,
   "id": "814af85e",
   "metadata": {},
   "outputs": [],
   "source": [
    "behavior_data.reset_index(drop = True, inplace=True)"
   ]
  },
  {
   "cell_type": "code",
   "execution_count": 19,
   "id": "2c3594f7",
   "metadata": {},
   "outputs": [
    {
     "data": {
      "text/html": [
       "<div>\n",
       "<style scoped>\n",
       "    .dataframe tbody tr th:only-of-type {\n",
       "        vertical-align: middle;\n",
       "    }\n",
       "\n",
       "    .dataframe tbody tr th {\n",
       "        vertical-align: top;\n",
       "    }\n",
       "\n",
       "    .dataframe thead th {\n",
       "        text-align: right;\n",
       "    }\n",
       "</style>\n",
       "<table border=\"1\" class=\"dataframe\">\n",
       "  <thead>\n",
       "    <tr style=\"text-align: right;\">\n",
       "      <th></th>\n",
       "      <th>user_id</th>\n",
       "      <th>sku_id</th>\n",
       "      <th>action_time</th>\n",
       "      <th>type</th>\n",
       "      <th>date</th>\n",
       "      <th>hour</th>\n",
       "      <th>week</th>\n",
       "    </tr>\n",
       "  </thead>\n",
       "  <tbody>\n",
       "    <tr>\n",
       "      <th>0</th>\n",
       "      <td>1455298</td>\n",
       "      <td>208441</td>\n",
       "      <td>2018-04-11 15:21:43</td>\n",
       "      <td>pv</td>\n",
       "      <td>2018-04-11</td>\n",
       "      <td>15</td>\n",
       "      <td>Wednesday</td>\n",
       "    </tr>\n",
       "    <tr>\n",
       "      <th>1</th>\n",
       "      <td>1455298</td>\n",
       "      <td>334318</td>\n",
       "      <td>2018-04-11 15:14:54</td>\n",
       "      <td>pv</td>\n",
       "      <td>2018-04-11</td>\n",
       "      <td>15</td>\n",
       "      <td>Wednesday</td>\n",
       "    </tr>\n",
       "    <tr>\n",
       "      <th>2</th>\n",
       "      <td>1455298</td>\n",
       "      <td>237755</td>\n",
       "      <td>2018-04-11 15:14:13</td>\n",
       "      <td>pv</td>\n",
       "      <td>2018-04-11</td>\n",
       "      <td>15</td>\n",
       "      <td>Wednesday</td>\n",
       "    </tr>\n",
       "    <tr>\n",
       "      <th>3</th>\n",
       "      <td>1455298</td>\n",
       "      <td>6422</td>\n",
       "      <td>2018-04-11 15:22:25</td>\n",
       "      <td>pv</td>\n",
       "      <td>2018-04-11</td>\n",
       "      <td>15</td>\n",
       "      <td>Wednesday</td>\n",
       "    </tr>\n",
       "    <tr>\n",
       "      <th>4</th>\n",
       "      <td>1455298</td>\n",
       "      <td>268566</td>\n",
       "      <td>2018-04-11 15:14:26</td>\n",
       "      <td>pv</td>\n",
       "      <td>2018-04-11</td>\n",
       "      <td>15</td>\n",
       "      <td>Wednesday</td>\n",
       "    </tr>\n",
       "  </tbody>\n",
       "</table>\n",
       "</div>"
      ],
      "text/plain": [
       "   user_id  sku_id          action_time type        date  hour       week\n",
       "0  1455298  208441  2018-04-11 15:21:43   pv  2018-04-11    15  Wednesday\n",
       "1  1455298  334318  2018-04-11 15:14:54   pv  2018-04-11    15  Wednesday\n",
       "2  1455298  237755  2018-04-11 15:14:13   pv  2018-04-11    15  Wednesday\n",
       "3  1455298    6422  2018-04-11 15:22:25   pv  2018-04-11    15  Wednesday\n",
       "4  1455298  268566  2018-04-11 15:14:26   pv  2018-04-11    15  Wednesday"
      ]
     },
     "execution_count": 19,
     "metadata": {},
     "output_type": "execute_result"
    }
   ],
   "source": [
    "behavior_data.head()"
   ]
  },
  {
   "cell_type": "code",
   "execution_count": 20,
   "id": "4563c79b",
   "metadata": {},
   "outputs": [
    {
     "data": {
      "text/html": [
       "<div>\n",
       "<style scoped>\n",
       "    .dataframe tbody tr th:only-of-type {\n",
       "        vertical-align: middle;\n",
       "    }\n",
       "\n",
       "    .dataframe tbody tr th {\n",
       "        vertical-align: top;\n",
       "    }\n",
       "\n",
       "    .dataframe thead th {\n",
       "        text-align: right;\n",
       "    }\n",
       "</style>\n",
       "<table border=\"1\" class=\"dataframe\">\n",
       "  <thead>\n",
       "    <tr style=\"text-align: right;\">\n",
       "      <th></th>\n",
       "      <th>user_id</th>\n",
       "      <th>sku_id</th>\n",
       "      <th>action_time</th>\n",
       "      <th>type</th>\n",
       "      <th>date</th>\n",
       "      <th>hour</th>\n",
       "      <th>week</th>\n",
       "    </tr>\n",
       "  </thead>\n",
       "  <tbody>\n",
       "    <tr>\n",
       "      <th>0</th>\n",
       "      <td>1455298</td>\n",
       "      <td>208441</td>\n",
       "      <td>2018-04-11 15:21:43</td>\n",
       "      <td>pv</td>\n",
       "      <td>2018-04-11</td>\n",
       "      <td>15</td>\n",
       "      <td>Wednesday</td>\n",
       "    </tr>\n",
       "    <tr>\n",
       "      <th>1</th>\n",
       "      <td>1455298</td>\n",
       "      <td>334318</td>\n",
       "      <td>2018-04-11 15:14:54</td>\n",
       "      <td>pv</td>\n",
       "      <td>2018-04-11</td>\n",
       "      <td>15</td>\n",
       "      <td>Wednesday</td>\n",
       "    </tr>\n",
       "    <tr>\n",
       "      <th>2</th>\n",
       "      <td>1455298</td>\n",
       "      <td>237755</td>\n",
       "      <td>2018-04-11 15:14:13</td>\n",
       "      <td>pv</td>\n",
       "      <td>2018-04-11</td>\n",
       "      <td>15</td>\n",
       "      <td>Wednesday</td>\n",
       "    </tr>\n",
       "    <tr>\n",
       "      <th>3</th>\n",
       "      <td>1455298</td>\n",
       "      <td>6422</td>\n",
       "      <td>2018-04-11 15:22:25</td>\n",
       "      <td>pv</td>\n",
       "      <td>2018-04-11</td>\n",
       "      <td>15</td>\n",
       "      <td>Wednesday</td>\n",
       "    </tr>\n",
       "    <tr>\n",
       "      <th>4</th>\n",
       "      <td>1455298</td>\n",
       "      <td>268566</td>\n",
       "      <td>2018-04-11 15:14:26</td>\n",
       "      <td>pv</td>\n",
       "      <td>2018-04-11</td>\n",
       "      <td>15</td>\n",
       "      <td>Wednesday</td>\n",
       "    </tr>\n",
       "  </tbody>\n",
       "</table>\n",
       "</div>"
      ],
      "text/plain": [
       "   user_id  sku_id          action_time type        date  hour       week\n",
       "0  1455298  208441  2018-04-11 15:21:43   pv  2018-04-11    15  Wednesday\n",
       "1  1455298  334318  2018-04-11 15:14:54   pv  2018-04-11    15  Wednesday\n",
       "2  1455298  237755  2018-04-11 15:14:13   pv  2018-04-11    15  Wednesday\n",
       "3  1455298    6422  2018-04-11 15:22:25   pv  2018-04-11    15  Wednesday\n",
       "4  1455298  268566  2018-04-11 15:14:26   pv  2018-04-11    15  Wednesday"
      ]
     },
     "execution_count": 20,
     "metadata": {},
     "output_type": "execute_result"
    }
   ],
   "source": [
    "behavior_data.head()"
   ]
  },
  {
   "cell_type": "code",
   "execution_count": 21,
   "id": "1459fad5",
   "metadata": {},
   "outputs": [],
   "source": [
    "# Analysis data and built the model"
   ]
  },
  {
   "cell_type": "code",
   "execution_count": 22,
   "id": "d585ec56",
   "metadata": {},
   "outputs": [
    {
     "data": {
      "text/plain": [
       "6229177"
      ]
     },
     "execution_count": 22,
     "metadata": {},
     "output_type": "execute_result"
    }
   ],
   "source": [
    "# Total views\n",
    "pv = (behavior_data.type =='pv').sum()\n",
    "pv"
   ]
  },
  {
   "cell_type": "code",
   "execution_count": 23,
   "id": "5e39558e",
   "metadata": {},
   "outputs": [
    {
     "data": {
      "text/plain": [
       "728959"
      ]
     },
     "execution_count": 23,
     "metadata": {},
     "output_type": "execute_result"
    }
   ],
   "source": [
    "# Total viewers\n",
    "uv = behavior_data.user_id.nunique()\n",
    "uv"
   ]
  },
  {
   "cell_type": "code",
   "execution_count": 24,
   "id": "3bc8eccd",
   "metadata": {},
   "outputs": [
    {
     "data": {
      "text/plain": [
       "395874"
      ]
     },
     "execution_count": 24,
     "metadata": {},
     "output_type": "execute_result"
    }
   ],
   "source": [
    "# Number of consumers (paied views)\n",
    "nc = behavior_data[behavior_data.type == 'pay'].user_id.nunique()\n",
    "nc"
   ]
  },
  {
   "cell_type": "code",
   "execution_count": 25,
   "id": "9f576ddd",
   "metadata": {},
   "outputs": [
    {
     "data": {
      "text/plain": [
       "389323.5625"
      ]
     },
     "execution_count": 25,
     "metadata": {},
     "output_type": "execute_result"
    }
   ],
   "source": [
    "# daily views\n",
    "dv = pv/behavior_data.date.nunique()\n",
    "dv"
   ]
  },
  {
   "cell_type": "code",
   "execution_count": 26,
   "id": "62cb63bc",
   "metadata": {},
   "outputs": [
    {
     "data": {
      "text/plain": [
       "8.5453050171546"
      ]
     },
     "execution_count": 26,
     "metadata": {},
     "output_type": "execute_result"
    }
   ],
   "source": [
    "# how many views per person\n",
    "vpp = pv/uv\n",
    "vpp"
   ]
  },
  {
   "cell_type": "code",
   "execution_count": 27,
   "id": "2bec37c1",
   "metadata": {},
   "outputs": [
    {
     "data": {
      "text/plain": [
       "3918000"
      ]
     },
     "execution_count": 27,
     "metadata": {},
     "output_type": "execute_result"
    }
   ],
   "source": [
    "# The views for customers\n",
    "vc = behavior_data[behavior_data.type == 'pv'][behavior_data[behavior_data.type == 'pv'].user_id.isin(behavior_data[behavior_data.type == 'pay'].user_id)]\n",
    "len(vc)"
   ]
  },
  {
   "cell_type": "code",
   "execution_count": 28,
   "id": "88820be8",
   "metadata": {},
   "outputs": [
    {
     "data": {
      "text/plain": [
       "54.3067579932479"
      ]
     },
     "execution_count": 28,
     "metadata": {},
     "output_type": "execute_result"
    }
   ],
   "source": [
    "# The proportion of customers\n",
    "customer_ratio = nc/uv*100\n",
    "customer_ratio"
   ]
  },
  {
   "cell_type": "code",
   "execution_count": 29,
   "id": "f361d4c0",
   "metadata": {},
   "outputs": [
    {
     "data": {
      "text/plain": [
       "0.6289755452445804"
      ]
     },
     "execution_count": 29,
     "metadata": {},
     "output_type": "execute_result"
    }
   ],
   "source": [
    "# The proportion of customer views\n",
    "len(vc)/pv"
   ]
  },
  {
   "cell_type": "code",
   "execution_count": 30,
   "id": "91dcaca1",
   "metadata": {},
   "outputs": [
    {
     "name": "stdout",
     "output_type": "stream",
     "text": [
      "The total views is 6229177\n",
      "The proportion of customers is:54.31%\n",
      "The average views per customer is 9.90\n"
     ]
    }
   ],
   "source": [
    "print(f\"The total views is {pv:.0f}\" )\n",
    "print(\"The proportion of customers is:%.2f%%\" % customer_ratio)\n",
    "print(f'The average views per customer is {len(vc)/nc:.2f}')"
   ]
  },
  {
   "cell_type": "code",
   "execution_count": 31,
   "id": "f67a5f3e",
   "metadata": {},
   "outputs": [],
   "source": [
    "# How many users consume only once\n",
    "attrition_rate = np.sum(behavior_data.groupby(['user_id']).sku_id.count()==1)*100/uv"
   ]
  },
  {
   "cell_type": "code",
   "execution_count": 32,
   "id": "569be1a0",
   "metadata": {},
   "outputs": [
    {
     "name": "stdout",
     "output_type": "stream",
     "text": [
      "The attrition rate is:22.59%\n"
     ]
    }
   ],
   "source": [
    "print(\"The attrition rate is:%.2f%%\" %attrition_rate)"
   ]
  },
  {
   "cell_type": "code",
   "execution_count": 33,
   "id": "f8e17653",
   "metadata": {},
   "outputs": [],
   "source": [
    "# The customers consume frequencies analysis"
   ]
  },
  {
   "cell_type": "code",
   "execution_count": 34,
   "id": "5f6fca64",
   "metadata": {},
   "outputs": [
    {
     "data": {
      "text/html": [
       "<div>\n",
       "<style scoped>\n",
       "    .dataframe tbody tr th:only-of-type {\n",
       "        vertical-align: middle;\n",
       "    }\n",
       "\n",
       "    .dataframe tbody tr th {\n",
       "        vertical-align: top;\n",
       "    }\n",
       "\n",
       "    .dataframe thead th {\n",
       "        text-align: right;\n",
       "    }\n",
       "</style>\n",
       "<table border=\"1\" class=\"dataframe\">\n",
       "  <thead>\n",
       "    <tr style=\"text-align: right;\">\n",
       "      <th></th>\n",
       "      <th>user_id</th>\n",
       "      <th>sku_id</th>\n",
       "      <th>action_time</th>\n",
       "      <th>type</th>\n",
       "      <th>date</th>\n",
       "      <th>hour</th>\n",
       "      <th>week</th>\n",
       "    </tr>\n",
       "  </thead>\n",
       "  <tbody>\n",
       "    <tr>\n",
       "      <th>0</th>\n",
       "      <td>1455298</td>\n",
       "      <td>208441</td>\n",
       "      <td>2018-04-11 15:21:43</td>\n",
       "      <td>pv</td>\n",
       "      <td>2018-04-11</td>\n",
       "      <td>15</td>\n",
       "      <td>Wednesday</td>\n",
       "    </tr>\n",
       "    <tr>\n",
       "      <th>1</th>\n",
       "      <td>1455298</td>\n",
       "      <td>334318</td>\n",
       "      <td>2018-04-11 15:14:54</td>\n",
       "      <td>pv</td>\n",
       "      <td>2018-04-11</td>\n",
       "      <td>15</td>\n",
       "      <td>Wednesday</td>\n",
       "    </tr>\n",
       "    <tr>\n",
       "      <th>2</th>\n",
       "      <td>1455298</td>\n",
       "      <td>237755</td>\n",
       "      <td>2018-04-11 15:14:13</td>\n",
       "      <td>pv</td>\n",
       "      <td>2018-04-11</td>\n",
       "      <td>15</td>\n",
       "      <td>Wednesday</td>\n",
       "    </tr>\n",
       "    <tr>\n",
       "      <th>3</th>\n",
       "      <td>1455298</td>\n",
       "      <td>6422</td>\n",
       "      <td>2018-04-11 15:22:25</td>\n",
       "      <td>pv</td>\n",
       "      <td>2018-04-11</td>\n",
       "      <td>15</td>\n",
       "      <td>Wednesday</td>\n",
       "    </tr>\n",
       "    <tr>\n",
       "      <th>4</th>\n",
       "      <td>1455298</td>\n",
       "      <td>268566</td>\n",
       "      <td>2018-04-11 15:14:26</td>\n",
       "      <td>pv</td>\n",
       "      <td>2018-04-11</td>\n",
       "      <td>15</td>\n",
       "      <td>Wednesday</td>\n",
       "    </tr>\n",
       "  </tbody>\n",
       "</table>\n",
       "</div>"
      ],
      "text/plain": [
       "   user_id  sku_id          action_time type        date  hour       week\n",
       "0  1455298  208441  2018-04-11 15:21:43   pv  2018-04-11    15  Wednesday\n",
       "1  1455298  334318  2018-04-11 15:14:54   pv  2018-04-11    15  Wednesday\n",
       "2  1455298  237755  2018-04-11 15:14:13   pv  2018-04-11    15  Wednesday\n",
       "3  1455298    6422  2018-04-11 15:22:25   pv  2018-04-11    15  Wednesday\n",
       "4  1455298  268566  2018-04-11 15:14:26   pv  2018-04-11    15  Wednesday"
      ]
     },
     "execution_count": 34,
     "metadata": {},
     "output_type": "execute_result"
    }
   ],
   "source": [
    "behavior_data.head()"
   ]
  },
  {
   "cell_type": "code",
   "execution_count": 35,
   "id": "9d4cd624",
   "metadata": {},
   "outputs": [],
   "source": [
    "total_purchasing = behavior_data[behavior_data.type=='pay'].groupby('user_id').sku_id.count().reset_index()"
   ]
  },
  {
   "cell_type": "code",
   "execution_count": 36,
   "id": "7b76a5c5",
   "metadata": {},
   "outputs": [],
   "source": [
    "total_purchasing.rename(columns = {'sku_id':'total_times'},inplace=True)"
   ]
  },
  {
   "cell_type": "code",
   "execution_count": 37,
   "id": "d3a76e62",
   "metadata": {},
   "outputs": [],
   "source": [
    "sort_orders = total_purchasing.sort_values('total_times',ascending = False)"
   ]
  },
  {
   "cell_type": "code",
   "execution_count": 38,
   "id": "ec36f83f",
   "metadata": {},
   "outputs": [
    {
     "data": {
      "text/html": [
       "<div>\n",
       "<style scoped>\n",
       "    .dataframe tbody tr th:only-of-type {\n",
       "        vertical-align: middle;\n",
       "    }\n",
       "\n",
       "    .dataframe tbody tr th {\n",
       "        vertical-align: top;\n",
       "    }\n",
       "\n",
       "    .dataframe thead th {\n",
       "        text-align: right;\n",
       "    }\n",
       "</style>\n",
       "<table border=\"1\" class=\"dataframe\">\n",
       "  <thead>\n",
       "    <tr style=\"text-align: right;\">\n",
       "      <th></th>\n",
       "      <th>user_id</th>\n",
       "      <th>total_times</th>\n",
       "    </tr>\n",
       "  </thead>\n",
       "  <tbody>\n",
       "    <tr>\n",
       "      <th>291985</th>\n",
       "      <td>1187177</td>\n",
       "      <td>133</td>\n",
       "    </tr>\n",
       "    <tr>\n",
       "      <th>123606</th>\n",
       "      <td>502169</td>\n",
       "      <td>68</td>\n",
       "    </tr>\n",
       "    <tr>\n",
       "      <th>147643</th>\n",
       "      <td>600837</td>\n",
       "      <td>53</td>\n",
       "    </tr>\n",
       "    <tr>\n",
       "      <th>111678</th>\n",
       "      <td>453216</td>\n",
       "      <td>51</td>\n",
       "    </tr>\n",
       "    <tr>\n",
       "      <th>337864</th>\n",
       "      <td>1372747</td>\n",
       "      <td>36</td>\n",
       "    </tr>\n",
       "    <tr>\n",
       "      <th>27610</th>\n",
       "      <td>112205</td>\n",
       "      <td>35</td>\n",
       "    </tr>\n",
       "    <tr>\n",
       "      <th>305681</th>\n",
       "      <td>1243056</td>\n",
       "      <td>34</td>\n",
       "    </tr>\n",
       "    <tr>\n",
       "      <th>362098</th>\n",
       "      <td>1470958</td>\n",
       "      <td>30</td>\n",
       "    </tr>\n",
       "    <tr>\n",
       "      <th>103595</th>\n",
       "      <td>420489</td>\n",
       "      <td>30</td>\n",
       "    </tr>\n",
       "    <tr>\n",
       "      <th>140440</th>\n",
       "      <td>570913</td>\n",
       "      <td>29</td>\n",
       "    </tr>\n",
       "  </tbody>\n",
       "</table>\n",
       "</div>"
      ],
      "text/plain": [
       "        user_id  total_times\n",
       "291985  1187177          133\n",
       "123606   502169           68\n",
       "147643   600837           53\n",
       "111678   453216           51\n",
       "337864  1372747           36\n",
       "27610    112205           35\n",
       "305681  1243056           34\n",
       "362098  1470958           30\n",
       "103595   420489           30\n",
       "140440   570913           29"
      ]
     },
     "execution_count": 38,
     "metadata": {},
     "output_type": "execute_result"
    }
   ],
   "source": [
    "# Top 10 buyers user_id and orders\n",
    "top_10_buyers = sort_orders.head(10)\n",
    "top_10_buyers"
   ]
  },
  {
   "cell_type": "code",
   "execution_count": 39,
   "id": "d611ab5c",
   "metadata": {},
   "outputs": [],
   "source": [
    "# Calculate the rebuy time\n",
    "re_buy_rate = np.sum(sort_orders['total_times']>=2)*100/len(sort_orders)"
   ]
  },
  {
   "cell_type": "code",
   "execution_count": 40,
   "id": "98481b6a",
   "metadata": {},
   "outputs": [
    {
     "name": "stdout",
     "output_type": "stream",
     "text": [
      "The re_buy_rate is : 13.42%\n"
     ]
    }
   ],
   "source": [
    "print('The re_buy_rate is : %.2f%%' %re_buy_rate )"
   ]
  },
  {
   "cell_type": "code",
   "execution_count": 41,
   "id": "5abe9661",
   "metadata": {},
   "outputs": [],
   "source": [
    "top_10_buyers_2 = top_10_buyers.reset_index(drop=True)"
   ]
  },
  {
   "cell_type": "code",
   "execution_count": 42,
   "id": "8a0669dd",
   "metadata": {},
   "outputs": [
    {
     "data": {
      "text/html": [
       "<style  type=\"text/css\" >\n",
       "#T_1d3b8_row0_col1{\n",
       "            width:  10em;\n",
       "             height:  80%;\n",
       "            background:  linear-gradient(90deg,#d65f5f 100.0%, transparent 100.0%);\n",
       "        }#T_1d3b8_row1_col1{\n",
       "            width:  10em;\n",
       "             height:  80%;\n",
       "            background:  linear-gradient(90deg,#d65f5f 37.5%, transparent 37.5%);\n",
       "        }#T_1d3b8_row2_col1{\n",
       "            width:  10em;\n",
       "             height:  80%;\n",
       "            background:  linear-gradient(90deg,#d65f5f 23.1%, transparent 23.1%);\n",
       "        }#T_1d3b8_row3_col1{\n",
       "            width:  10em;\n",
       "             height:  80%;\n",
       "            background:  linear-gradient(90deg,#d65f5f 21.2%, transparent 21.2%);\n",
       "        }#T_1d3b8_row4_col1{\n",
       "            width:  10em;\n",
       "             height:  80%;\n",
       "            background:  linear-gradient(90deg,#d65f5f 6.7%, transparent 6.7%);\n",
       "        }#T_1d3b8_row5_col1{\n",
       "            width:  10em;\n",
       "             height:  80%;\n",
       "            background:  linear-gradient(90deg,#d65f5f 5.8%, transparent 5.8%);\n",
       "        }#T_1d3b8_row6_col1{\n",
       "            width:  10em;\n",
       "             height:  80%;\n",
       "            background:  linear-gradient(90deg,#d65f5f 4.8%, transparent 4.8%);\n",
       "        }#T_1d3b8_row7_col1,#T_1d3b8_row8_col1{\n",
       "            width:  10em;\n",
       "             height:  80%;\n",
       "            background:  linear-gradient(90deg,#d65f5f 1.0%, transparent 1.0%);\n",
       "        }#T_1d3b8_row9_col1{\n",
       "            width:  10em;\n",
       "             height:  80%;\n",
       "        }</style><table id=\"T_1d3b8_\" ><thead>    <tr>        <th class=\"blank level0\" ></th>        <th class=\"col_heading level0 col0\" >user_id</th>        <th class=\"col_heading level0 col1\" >total_times</th>    </tr></thead><tbody>\n",
       "                <tr>\n",
       "                        <th id=\"T_1d3b8_level0_row0\" class=\"row_heading level0 row0\" >0</th>\n",
       "                        <td id=\"T_1d3b8_row0_col0\" class=\"data row0 col0\" >1187177</td>\n",
       "                        <td id=\"T_1d3b8_row0_col1\" class=\"data row0 col1\" >133</td>\n",
       "            </tr>\n",
       "            <tr>\n",
       "                        <th id=\"T_1d3b8_level0_row1\" class=\"row_heading level0 row1\" >1</th>\n",
       "                        <td id=\"T_1d3b8_row1_col0\" class=\"data row1 col0\" >502169</td>\n",
       "                        <td id=\"T_1d3b8_row1_col1\" class=\"data row1 col1\" >68</td>\n",
       "            </tr>\n",
       "            <tr>\n",
       "                        <th id=\"T_1d3b8_level0_row2\" class=\"row_heading level0 row2\" >2</th>\n",
       "                        <td id=\"T_1d3b8_row2_col0\" class=\"data row2 col0\" >600837</td>\n",
       "                        <td id=\"T_1d3b8_row2_col1\" class=\"data row2 col1\" >53</td>\n",
       "            </tr>\n",
       "            <tr>\n",
       "                        <th id=\"T_1d3b8_level0_row3\" class=\"row_heading level0 row3\" >3</th>\n",
       "                        <td id=\"T_1d3b8_row3_col0\" class=\"data row3 col0\" >453216</td>\n",
       "                        <td id=\"T_1d3b8_row3_col1\" class=\"data row3 col1\" >51</td>\n",
       "            </tr>\n",
       "            <tr>\n",
       "                        <th id=\"T_1d3b8_level0_row4\" class=\"row_heading level0 row4\" >4</th>\n",
       "                        <td id=\"T_1d3b8_row4_col0\" class=\"data row4 col0\" >1372747</td>\n",
       "                        <td id=\"T_1d3b8_row4_col1\" class=\"data row4 col1\" >36</td>\n",
       "            </tr>\n",
       "            <tr>\n",
       "                        <th id=\"T_1d3b8_level0_row5\" class=\"row_heading level0 row5\" >5</th>\n",
       "                        <td id=\"T_1d3b8_row5_col0\" class=\"data row5 col0\" >112205</td>\n",
       "                        <td id=\"T_1d3b8_row5_col1\" class=\"data row5 col1\" >35</td>\n",
       "            </tr>\n",
       "            <tr>\n",
       "                        <th id=\"T_1d3b8_level0_row6\" class=\"row_heading level0 row6\" >6</th>\n",
       "                        <td id=\"T_1d3b8_row6_col0\" class=\"data row6 col0\" >1243056</td>\n",
       "                        <td id=\"T_1d3b8_row6_col1\" class=\"data row6 col1\" >34</td>\n",
       "            </tr>\n",
       "            <tr>\n",
       "                        <th id=\"T_1d3b8_level0_row7\" class=\"row_heading level0 row7\" >7</th>\n",
       "                        <td id=\"T_1d3b8_row7_col0\" class=\"data row7 col0\" >1470958</td>\n",
       "                        <td id=\"T_1d3b8_row7_col1\" class=\"data row7 col1\" >30</td>\n",
       "            </tr>\n",
       "            <tr>\n",
       "                        <th id=\"T_1d3b8_level0_row8\" class=\"row_heading level0 row8\" >8</th>\n",
       "                        <td id=\"T_1d3b8_row8_col0\" class=\"data row8 col0\" >420489</td>\n",
       "                        <td id=\"T_1d3b8_row8_col1\" class=\"data row8 col1\" >30</td>\n",
       "            </tr>\n",
       "            <tr>\n",
       "                        <th id=\"T_1d3b8_level0_row9\" class=\"row_heading level0 row9\" >9</th>\n",
       "                        <td id=\"T_1d3b8_row9_col0\" class=\"data row9 col0\" >570913</td>\n",
       "                        <td id=\"T_1d3b8_row9_col1\" class=\"data row9 col1\" >29</td>\n",
       "            </tr>\n",
       "    </tbody></table>"
      ],
      "text/plain": [
       "<pandas.io.formats.style.Styler at 0x237f57b77f0>"
      ]
     },
     "execution_count": 42,
     "metadata": {},
     "output_type": "execute_result"
    }
   ],
   "source": [
    "top_10_buyers_2.style.bar(subset = 'total_times')"
   ]
  },
  {
   "cell_type": "code",
   "execution_count": 43,
   "id": "441224b2",
   "metadata": {},
   "outputs": [],
   "source": [
    "sort_orders2 = sort_orders.reset_index(drop = True)"
   ]
  },
  {
   "cell_type": "code",
   "execution_count": 44,
   "id": "9a7d81d8",
   "metadata": {},
   "outputs": [
    {
     "data": {
      "text/html": [
       "<div>\n",
       "<style scoped>\n",
       "    .dataframe tbody tr th:only-of-type {\n",
       "        vertical-align: middle;\n",
       "    }\n",
       "\n",
       "    .dataframe tbody tr th {\n",
       "        vertical-align: top;\n",
       "    }\n",
       "\n",
       "    .dataframe thead th {\n",
       "        text-align: right;\n",
       "    }\n",
       "</style>\n",
       "<table border=\"1\" class=\"dataframe\">\n",
       "  <thead>\n",
       "    <tr style=\"text-align: right;\">\n",
       "      <th></th>\n",
       "      <th>user_id</th>\n",
       "      <th>total_times</th>\n",
       "    </tr>\n",
       "  </thead>\n",
       "  <tbody>\n",
       "    <tr>\n",
       "      <th>0</th>\n",
       "      <td>1187177</td>\n",
       "      <td>133</td>\n",
       "    </tr>\n",
       "    <tr>\n",
       "      <th>1</th>\n",
       "      <td>502169</td>\n",
       "      <td>68</td>\n",
       "    </tr>\n",
       "    <tr>\n",
       "      <th>2</th>\n",
       "      <td>600837</td>\n",
       "      <td>53</td>\n",
       "    </tr>\n",
       "    <tr>\n",
       "      <th>3</th>\n",
       "      <td>453216</td>\n",
       "      <td>51</td>\n",
       "    </tr>\n",
       "    <tr>\n",
       "      <th>4</th>\n",
       "      <td>1372747</td>\n",
       "      <td>36</td>\n",
       "    </tr>\n",
       "  </tbody>\n",
       "</table>\n",
       "</div>"
      ],
      "text/plain": [
       "   user_id  total_times\n",
       "0  1187177          133\n",
       "1   502169           68\n",
       "2   600837           53\n",
       "3   453216           51\n",
       "4  1372747           36"
      ]
     },
     "execution_count": 44,
     "metadata": {},
     "output_type": "execute_result"
    }
   ],
   "source": [
    "sort_orders2.head()"
   ]
  },
  {
   "cell_type": "code",
   "execution_count": 45,
   "id": "4b26146e",
   "metadata": {},
   "outputs": [],
   "source": [
    "plt.rcParams['figure.figsize']=(15,5)"
   ]
  },
  {
   "cell_type": "code",
   "execution_count": 46,
   "id": "63d6077b",
   "metadata": {},
   "outputs": [
    {
     "data": {
      "text/html": [
       "<div>\n",
       "<style scoped>\n",
       "    .dataframe tbody tr th:only-of-type {\n",
       "        vertical-align: middle;\n",
       "    }\n",
       "\n",
       "    .dataframe tbody tr th {\n",
       "        vertical-align: top;\n",
       "    }\n",
       "\n",
       "    .dataframe thead th {\n",
       "        text-align: right;\n",
       "    }\n",
       "</style>\n",
       "<table border=\"1\" class=\"dataframe\">\n",
       "  <thead>\n",
       "    <tr style=\"text-align: right;\">\n",
       "      <th></th>\n",
       "      <th>user_id</th>\n",
       "      <th>total_times</th>\n",
       "    </tr>\n",
       "  </thead>\n",
       "  <tbody>\n",
       "    <tr>\n",
       "      <th>0</th>\n",
       "      <td>1187177</td>\n",
       "      <td>133</td>\n",
       "    </tr>\n",
       "    <tr>\n",
       "      <th>1</th>\n",
       "      <td>502169</td>\n",
       "      <td>68</td>\n",
       "    </tr>\n",
       "    <tr>\n",
       "      <th>2</th>\n",
       "      <td>600837</td>\n",
       "      <td>53</td>\n",
       "    </tr>\n",
       "    <tr>\n",
       "      <th>3</th>\n",
       "      <td>453216</td>\n",
       "      <td>51</td>\n",
       "    </tr>\n",
       "    <tr>\n",
       "      <th>4</th>\n",
       "      <td>1372747</td>\n",
       "      <td>36</td>\n",
       "    </tr>\n",
       "  </tbody>\n",
       "</table>\n",
       "</div>"
      ],
      "text/plain": [
       "   user_id  total_times\n",
       "0  1187177          133\n",
       "1   502169           68\n",
       "2   600837           53\n",
       "3   453216           51\n",
       "4  1372747           36"
      ]
     },
     "execution_count": 46,
     "metadata": {},
     "output_type": "execute_result"
    }
   ],
   "source": [
    "sort_orders2.head()"
   ]
  },
  {
   "cell_type": "code",
   "execution_count": 47,
   "id": "7f2c49f1",
   "metadata": {},
   "outputs": [
    {
     "data": {
      "text/plain": [
       "0.0001416227046187746"
      ]
     },
     "execution_count": 47,
     "metadata": {},
     "output_type": "execute_result"
    }
   ],
   "source": [
    "sort_orders2['total_times'][1]/sort_orders2['total_times'].sum()"
   ]
  },
  {
   "cell_type": "code",
   "execution_count": 48,
   "id": "3b273a48",
   "metadata": {},
   "outputs": [],
   "source": [
    "haha = []\n",
    "for i in range(len(sort_orders2)):\n",
    "    a = sort_orders2['total_times'][i]/sort_orders2['total_times'].sum()\n",
    "    haha.append(a)"
   ]
  },
  {
   "cell_type": "code",
   "execution_count": 49,
   "id": "e2b56280",
   "metadata": {},
   "outputs": [],
   "source": [
    "sort_orders2['total_times percentage']=haha"
   ]
  },
  {
   "cell_type": "code",
   "execution_count": 50,
   "id": "0a813afc",
   "metadata": {},
   "outputs": [
    {
     "data": {
      "text/html": [
       "<div>\n",
       "<style scoped>\n",
       "    .dataframe tbody tr th:only-of-type {\n",
       "        vertical-align: middle;\n",
       "    }\n",
       "\n",
       "    .dataframe tbody tr th {\n",
       "        vertical-align: top;\n",
       "    }\n",
       "\n",
       "    .dataframe thead th {\n",
       "        text-align: right;\n",
       "    }\n",
       "</style>\n",
       "<table border=\"1\" class=\"dataframe\">\n",
       "  <thead>\n",
       "    <tr style=\"text-align: right;\">\n",
       "      <th></th>\n",
       "      <th>user_id</th>\n",
       "      <th>total_times</th>\n",
       "      <th>total_times percentage</th>\n",
       "    </tr>\n",
       "  </thead>\n",
       "  <tbody>\n",
       "    <tr>\n",
       "      <th>0</th>\n",
       "      <td>1187177</td>\n",
       "      <td>133</td>\n",
       "      <td>0.000277</td>\n",
       "    </tr>\n",
       "    <tr>\n",
       "      <th>1</th>\n",
       "      <td>502169</td>\n",
       "      <td>68</td>\n",
       "      <td>0.000142</td>\n",
       "    </tr>\n",
       "    <tr>\n",
       "      <th>2</th>\n",
       "      <td>600837</td>\n",
       "      <td>53</td>\n",
       "      <td>0.000110</td>\n",
       "    </tr>\n",
       "    <tr>\n",
       "      <th>3</th>\n",
       "      <td>453216</td>\n",
       "      <td>51</td>\n",
       "      <td>0.000106</td>\n",
       "    </tr>\n",
       "    <tr>\n",
       "      <th>4</th>\n",
       "      <td>1372747</td>\n",
       "      <td>36</td>\n",
       "      <td>0.000075</td>\n",
       "    </tr>\n",
       "  </tbody>\n",
       "</table>\n",
       "</div>"
      ],
      "text/plain": [
       "   user_id  total_times  total_times percentage\n",
       "0  1187177          133                0.000277\n",
       "1   502169           68                0.000142\n",
       "2   600837           53                0.000110\n",
       "3   453216           51                0.000106\n",
       "4  1372747           36                0.000075"
      ]
     },
     "execution_count": 50,
     "metadata": {},
     "output_type": "execute_result"
    }
   ],
   "source": [
    "sort_orders2.head()"
   ]
  },
  {
   "cell_type": "code",
   "execution_count": 51,
   "id": "8f431cf6",
   "metadata": {},
   "outputs": [
    {
     "data": {
      "image/png": "[encoded data removed]",
      "text/plain": [
       "<Figure size 1080x360 with 1 Axes>"
      ]
     },
     "metadata": {
      "needs_background": "light"
     },
     "output_type": "display_data"
    }
   ],
   "source": [
    "ax = sb.countplot(x =sort_orders2.total_times,data =sort_orders2,palette = 'Set1')\n",
    "ax.set_yscale(\"log\")\n",
    "for p in ax.patches:\n",
    "    ax.annotate('{:.2f}%'.format(100*p.get_height()/len(sort_orders2['total_times'])), (p.get_x() - 0.1, p.get_height()))"
   ]
  },
  {
   "cell_type": "code",
   "execution_count": 52,
   "id": "0d3925a5",
   "metadata": {},
   "outputs": [
    {
     "data": {
      "text/html": [
       "<div>\n",
       "<style scoped>\n",
       "    .dataframe tbody tr th:only-of-type {\n",
       "        vertical-align: middle;\n",
       "    }\n",
       "\n",
       "    .dataframe tbody tr th {\n",
       "        vertical-align: top;\n",
       "    }\n",
       "\n",
       "    .dataframe thead th {\n",
       "        text-align: right;\n",
       "    }\n",
       "</style>\n",
       "<table border=\"1\" class=\"dataframe\">\n",
       "  <thead>\n",
       "    <tr style=\"text-align: right;\">\n",
       "      <th></th>\n",
       "      <th>user_id</th>\n",
       "      <th>sku_id</th>\n",
       "      <th>action_time</th>\n",
       "      <th>type</th>\n",
       "      <th>date</th>\n",
       "      <th>hour</th>\n",
       "      <th>week</th>\n",
       "    </tr>\n",
       "  </thead>\n",
       "  <tbody>\n",
       "    <tr>\n",
       "      <th>0</th>\n",
       "      <td>1455298</td>\n",
       "      <td>208441</td>\n",
       "      <td>2018-04-11 15:21:43</td>\n",
       "      <td>pv</td>\n",
       "      <td>2018-04-11</td>\n",
       "      <td>15</td>\n",
       "      <td>Wednesday</td>\n",
       "    </tr>\n",
       "    <tr>\n",
       "      <th>1</th>\n",
       "      <td>1455298</td>\n",
       "      <td>334318</td>\n",
       "      <td>2018-04-11 15:14:54</td>\n",
       "      <td>pv</td>\n",
       "      <td>2018-04-11</td>\n",
       "      <td>15</td>\n",
       "      <td>Wednesday</td>\n",
       "    </tr>\n",
       "    <tr>\n",
       "      <th>2</th>\n",
       "      <td>1455298</td>\n",
       "      <td>237755</td>\n",
       "      <td>2018-04-11 15:14:13</td>\n",
       "      <td>pv</td>\n",
       "      <td>2018-04-11</td>\n",
       "      <td>15</td>\n",
       "      <td>Wednesday</td>\n",
       "    </tr>\n",
       "    <tr>\n",
       "      <th>3</th>\n",
       "      <td>1455298</td>\n",
       "      <td>6422</td>\n",
       "      <td>2018-04-11 15:22:25</td>\n",
       "      <td>pv</td>\n",
       "      <td>2018-04-11</td>\n",
       "      <td>15</td>\n",
       "      <td>Wednesday</td>\n",
       "    </tr>\n",
       "    <tr>\n",
       "      <th>4</th>\n",
       "      <td>1455298</td>\n",
       "      <td>268566</td>\n",
       "      <td>2018-04-11 15:14:26</td>\n",
       "      <td>pv</td>\n",
       "      <td>2018-04-11</td>\n",
       "      <td>15</td>\n",
       "      <td>Wednesday</td>\n",
       "    </tr>\n",
       "  </tbody>\n",
       "</table>\n",
       "</div>"
      ],
      "text/plain": [
       "   user_id  sku_id          action_time type        date  hour       week\n",
       "0  1455298  208441  2018-04-11 15:21:43   pv  2018-04-11    15  Wednesday\n",
       "1  1455298  334318  2018-04-11 15:14:54   pv  2018-04-11    15  Wednesday\n",
       "2  1455298  237755  2018-04-11 15:14:13   pv  2018-04-11    15  Wednesday\n",
       "3  1455298    6422  2018-04-11 15:22:25   pv  2018-04-11    15  Wednesday\n",
       "4  1455298  268566  2018-04-11 15:14:26   pv  2018-04-11    15  Wednesday"
      ]
     },
     "execution_count": 52,
     "metadata": {},
     "output_type": "execute_result"
    }
   ],
   "source": [
    "behavior_data.head()"
   ]
  },
  {
   "cell_type": "markdown",
   "id": "3933e8bc",
   "metadata": {},
   "source": [
    "Daily consumption times,Daily views people, Daily consumption people, daily consumption people accupation,  daily consumption times per person"
   ]
  },
  {
   "cell_type": "code",
   "execution_count": 53,
   "id": "fd40a021",
   "metadata": {},
   "outputs": [],
   "source": [
    "# daily active user\n",
    "daily_active_user = behavior_data.groupby('date')['user_id'].nunique()"
   ]
  },
  {
   "cell_type": "code",
   "execution_count": 54,
   "id": "4fb7b482",
   "metadata": {},
   "outputs": [],
   "source": [
    "#daily buy user\n",
    "daily_buy_user = behavior_data[behavior_data.type =='pay'].groupby('date')['user_id'].nunique()"
   ]
  },
  {
   "cell_type": "code",
   "execution_count": 55,
   "id": "2063df8e",
   "metadata": {},
   "outputs": [],
   "source": [
    "# proportion of buyer\n",
    "proportion_of_buyer = daily_buy_user/daily_active_user"
   ]
  },
  {
   "cell_type": "code",
   "execution_count": 56,
   "id": "0186712a",
   "metadata": {},
   "outputs": [],
   "source": [
    "# Daily consumption times\n",
    "daily_buy_count  = behavior_data[behavior_data.type =='pay'].groupby('date').sku_id.count()"
   ]
  },
  {
   "cell_type": "code",
   "execution_count": 57,
   "id": "e638fe43",
   "metadata": {},
   "outputs": [],
   "source": [
    "# consumption per buyer\n",
    "consumption_per_buyer = daily_buy_count/daily_buy_user"
   ]
  },
  {
   "cell_type": "code",
   "execution_count": 58,
   "id": "92553b8b",
   "metadata": {},
   "outputs": [],
   "source": [
    "pob_bar = pd.merge(daily_active_user,daily_buy_user, on = 'date').reset_index().rename(columns= {'user_id_x':'daily_active_user','user_id_y':'daily_buyer_user'}).set_index('date').stack().reset_index().rename(columns ={'level_1':'variable',0:'value'})"
   ]
  },
  {
   "cell_type": "code",
   "execution_count": 59,
   "id": "5937d35e",
   "metadata": {},
   "outputs": [
    {
     "data": {
      "text/html": [
       "<div>\n",
       "<style scoped>\n",
       "    .dataframe tbody tr th:only-of-type {\n",
       "        vertical-align: middle;\n",
       "    }\n",
       "\n",
       "    .dataframe tbody tr th {\n",
       "        vertical-align: top;\n",
       "    }\n",
       "\n",
       "    .dataframe thead th {\n",
       "        text-align: right;\n",
       "    }\n",
       "</style>\n",
       "<table border=\"1\" class=\"dataframe\">\n",
       "  <thead>\n",
       "    <tr style=\"text-align: right;\">\n",
       "      <th></th>\n",
       "      <th>date</th>\n",
       "      <th>variable</th>\n",
       "      <th>value</th>\n",
       "    </tr>\n",
       "  </thead>\n",
       "  <tbody>\n",
       "    <tr>\n",
       "      <th>0</th>\n",
       "      <td>2018-03-30</td>\n",
       "      <td>daily_active_user</td>\n",
       "      <td>105562</td>\n",
       "    </tr>\n",
       "    <tr>\n",
       "      <th>1</th>\n",
       "      <td>2018-03-30</td>\n",
       "      <td>daily_buyer_user</td>\n",
       "      <td>25154</td>\n",
       "    </tr>\n",
       "    <tr>\n",
       "      <th>2</th>\n",
       "      <td>2018-03-31</td>\n",
       "      <td>daily_active_user</td>\n",
       "      <td>103626</td>\n",
       "    </tr>\n",
       "    <tr>\n",
       "      <th>3</th>\n",
       "      <td>2018-03-31</td>\n",
       "      <td>daily_buyer_user</td>\n",
       "      <td>25462</td>\n",
       "    </tr>\n",
       "    <tr>\n",
       "      <th>4</th>\n",
       "      <td>2018-04-01</td>\n",
       "      <td>daily_active_user</td>\n",
       "      <td>102604</td>\n",
       "    </tr>\n",
       "  </tbody>\n",
       "</table>\n",
       "</div>"
      ],
      "text/plain": [
       "         date           variable   value\n",
       "0  2018-03-30  daily_active_user  105562\n",
       "1  2018-03-30   daily_buyer_user   25154\n",
       "2  2018-03-31  daily_active_user  103626\n",
       "3  2018-03-31   daily_buyer_user   25462\n",
       "4  2018-04-01  daily_active_user  102604"
      ]
     },
     "execution_count": 59,
     "metadata": {},
     "output_type": "execute_result"
    }
   ],
   "source": [
    "pob_bar.head()"
   ]
  },
  {
   "cell_type": "code",
   "execution_count": 60,
   "id": "4bfb8da9",
   "metadata": {},
   "outputs": [
    {
     "data": {
      "text/plain": [
       "Index(['date', 'variable', 'value'], dtype='object')"
      ]
     },
     "execution_count": 60,
     "metadata": {},
     "output_type": "execute_result"
    }
   ],
   "source": [
    "pob_bar.columns\n"
   ]
  },
  {
   "cell_type": "code",
   "execution_count": 61,
   "id": "4f7279d3",
   "metadata": {},
   "outputs": [],
   "source": [
    "proportion_of_buyer = proportion_of_buyer.reset_index().rename(columns = {'user_id':'rate'})"
   ]
  },
  {
   "cell_type": "code",
   "execution_count": 62,
   "id": "98368225",
   "metadata": {},
   "outputs": [
    {
     "data": {
      "text/html": [
       "<div>\n",
       "<style scoped>\n",
       "    .dataframe tbody tr th:only-of-type {\n",
       "        vertical-align: middle;\n",
       "    }\n",
       "\n",
       "    .dataframe tbody tr th {\n",
       "        vertical-align: top;\n",
       "    }\n",
       "\n",
       "    .dataframe thead th {\n",
       "        text-align: right;\n",
       "    }\n",
       "</style>\n",
       "<table border=\"1\" class=\"dataframe\">\n",
       "  <thead>\n",
       "    <tr style=\"text-align: right;\">\n",
       "      <th></th>\n",
       "      <th>date</th>\n",
       "      <th>rate</th>\n",
       "    </tr>\n",
       "  </thead>\n",
       "  <tbody>\n",
       "    <tr>\n",
       "      <th>0</th>\n",
       "      <td>2018-03-30</td>\n",
       "      <td>0.238287</td>\n",
       "    </tr>\n",
       "    <tr>\n",
       "      <th>1</th>\n",
       "      <td>2018-03-31</td>\n",
       "      <td>0.245711</td>\n",
       "    </tr>\n",
       "    <tr>\n",
       "      <th>2</th>\n",
       "      <td>2018-04-01</td>\n",
       "      <td>0.241033</td>\n",
       "    </tr>\n",
       "    <tr>\n",
       "      <th>3</th>\n",
       "      <td>2018-04-02</td>\n",
       "      <td>0.246285</td>\n",
       "    </tr>\n",
       "    <tr>\n",
       "      <th>4</th>\n",
       "      <td>2018-04-03</td>\n",
       "      <td>0.242201</td>\n",
       "    </tr>\n",
       "  </tbody>\n",
       "</table>\n",
       "</div>"
      ],
      "text/plain": [
       "         date      rate\n",
       "0  2018-03-30  0.238287\n",
       "1  2018-03-31  0.245711\n",
       "2  2018-04-01  0.241033\n",
       "3  2018-04-02  0.246285\n",
       "4  2018-04-03  0.242201"
      ]
     },
     "execution_count": 62,
     "metadata": {},
     "output_type": "execute_result"
    }
   ],
   "source": [
    "proportion_of_buyer.head()"
   ]
  },
  {
   "cell_type": "code",
   "execution_count": 63,
   "id": "64431ab3",
   "metadata": {},
   "outputs": [
    {
     "data": {
      "image/png": "[encoded data removed]",
      "text/plain": [
       "<Figure size 1152x432 with 2 Axes>"
      ]
     },
     "metadata": {
      "needs_background": "light"
     },
     "output_type": "display_data"
    }
   ],
   "source": [
    "fig1 = plt.figure(figsize=[16,6])\n",
    "ax1 = fig1.add_subplot(111)\n",
    "ax2 = ax1.twinx()\n",
    "sb.barplot(x = 'date',y = 'value',hue = 'variable',data =pob_bar,ax = ax1, palette = 'husl')\n",
    "ax1.legend().set_title('')\n",
    "ax1.legend().remove()\n",
    "sb.pointplot(x = 'date',y ='rate',data = proportion_of_buyer,linetype = '--',color = 'teal',marker = 'D')\n",
    "for i in range(0,16):\n",
    "  plt.text(i+0.01,proportion_of_buyer['rate'][i]+0.001,'%.2f%%'%(proportion_of_buyer['rate'][i]*100),ha = 'center',va = 'bottom',fontsize = 12,fontweight ='bold')\n",
    "fig1.legend(loc = 'upper center',ncol = 2)\n",
    "plt.title('Daily consumption proportion')\n",
    "plt.show()"
   ]
  },
  {
   "cell_type": "markdown",
   "id": "116f3ed9",
   "metadata": {},
   "source": [
    "There is no big difference between daily active people and daily consumption people. The proportion is around 20%."
   ]
  },
  {
   "cell_type": "code",
   "execution_count": 64,
   "id": "99957578",
   "metadata": {},
   "outputs": [],
   "source": [
    "cpb_bar = daily_buy_count.reset_index().rename(columns = {'sku_id':'Num'})"
   ]
  },
  {
   "cell_type": "code",
   "execution_count": 65,
   "id": "8d2070e4",
   "metadata": {},
   "outputs": [
    {
     "data": {
      "text/html": [
       "<div>\n",
       "<style scoped>\n",
       "    .dataframe tbody tr th:only-of-type {\n",
       "        vertical-align: middle;\n",
       "    }\n",
       "\n",
       "    .dataframe tbody tr th {\n",
       "        vertical-align: top;\n",
       "    }\n",
       "\n",
       "    .dataframe thead th {\n",
       "        text-align: right;\n",
       "    }\n",
       "</style>\n",
       "<table border=\"1\" class=\"dataframe\">\n",
       "  <thead>\n",
       "    <tr style=\"text-align: right;\">\n",
       "      <th></th>\n",
       "      <th>date</th>\n",
       "      <th>Num</th>\n",
       "    </tr>\n",
       "  </thead>\n",
       "  <tbody>\n",
       "    <tr>\n",
       "      <th>0</th>\n",
       "      <td>2018-03-30</td>\n",
       "      <td>28768</td>\n",
       "    </tr>\n",
       "    <tr>\n",
       "      <th>1</th>\n",
       "      <td>2018-03-31</td>\n",
       "      <td>29215</td>\n",
       "    </tr>\n",
       "    <tr>\n",
       "      <th>2</th>\n",
       "      <td>2018-04-01</td>\n",
       "      <td>28082</td>\n",
       "    </tr>\n",
       "    <tr>\n",
       "      <th>3</th>\n",
       "      <td>2018-04-02</td>\n",
       "      <td>29342</td>\n",
       "    </tr>\n",
       "    <tr>\n",
       "      <th>4</th>\n",
       "      <td>2018-04-03</td>\n",
       "      <td>29713</td>\n",
       "    </tr>\n",
       "  </tbody>\n",
       "</table>\n",
       "</div>"
      ],
      "text/plain": [
       "         date    Num\n",
       "0  2018-03-30  28768\n",
       "1  2018-03-31  29215\n",
       "2  2018-04-01  28082\n",
       "3  2018-04-02  29342\n",
       "4  2018-04-03  29713"
      ]
     },
     "execution_count": 65,
     "metadata": {},
     "output_type": "execute_result"
    }
   ],
   "source": [
    "cpb_bar.head()"
   ]
  },
  {
   "cell_type": "code",
   "execution_count": 66,
   "id": "5c74f4d0",
   "metadata": {},
   "outputs": [],
   "source": [
    "cpb_line = consumption_per_buyer.reset_index().rename(columns = {'date':'Date',0:'Frequency'})"
   ]
  },
  {
   "cell_type": "code",
   "execution_count": 67,
   "id": "f331ade0",
   "metadata": {},
   "outputs": [
    {
     "data": {
      "text/html": [
       "<div>\n",
       "<style scoped>\n",
       "    .dataframe tbody tr th:only-of-type {\n",
       "        vertical-align: middle;\n",
       "    }\n",
       "\n",
       "    .dataframe tbody tr th {\n",
       "        vertical-align: top;\n",
       "    }\n",
       "\n",
       "    .dataframe thead th {\n",
       "        text-align: right;\n",
       "    }\n",
       "</style>\n",
       "<table border=\"1\" class=\"dataframe\">\n",
       "  <thead>\n",
       "    <tr style=\"text-align: right;\">\n",
       "      <th></th>\n",
       "      <th>Date</th>\n",
       "      <th>Frequency</th>\n",
       "    </tr>\n",
       "  </thead>\n",
       "  <tbody>\n",
       "    <tr>\n",
       "      <th>0</th>\n",
       "      <td>2018-03-30</td>\n",
       "      <td>1.143675</td>\n",
       "    </tr>\n",
       "    <tr>\n",
       "      <th>1</th>\n",
       "      <td>2018-03-31</td>\n",
       "      <td>1.147396</td>\n",
       "    </tr>\n",
       "    <tr>\n",
       "      <th>2</th>\n",
       "      <td>2018-04-01</td>\n",
       "      <td>1.135498</td>\n",
       "    </tr>\n",
       "    <tr>\n",
       "      <th>3</th>\n",
       "      <td>2018-04-02</td>\n",
       "      <td>1.133990</td>\n",
       "    </tr>\n",
       "    <tr>\n",
       "      <th>4</th>\n",
       "      <td>2018-04-03</td>\n",
       "      <td>1.134950</td>\n",
       "    </tr>\n",
       "  </tbody>\n",
       "</table>\n",
       "</div>"
      ],
      "text/plain": [
       "         Date  Frequency\n",
       "0  2018-03-30   1.143675\n",
       "1  2018-03-31   1.147396\n",
       "2  2018-04-01   1.135498\n",
       "3  2018-04-02   1.133990\n",
       "4  2018-04-03   1.134950"
      ]
     },
     "execution_count": 67,
     "metadata": {},
     "output_type": "execute_result"
    }
   ],
   "source": [
    "cpb_line.head()"
   ]
  },
  {
   "cell_type": "code",
   "execution_count": 68,
   "id": "96db66d3",
   "metadata": {},
   "outputs": [
    {
     "data": {
      "image/png": "[encoded data removed]",
      "text/plain": [
       "<Figure size 1152x432 with 2 Axes>"
      ]
     },
     "metadata": {
      "needs_background": "light"
     },
     "output_type": "display_data"
    }
   ],
   "source": [
    "fig2 = plt.figure(figsize=[16,6])\n",
    "ax3 = fig2.add_subplot(111)\n",
    "ax4 = ax3.twinx()\n",
    "sb.barplot(x='date',y ='Num',data =cpb_bar,palette = 'pastel',ax=ax3, alpha=0.8)\n",
    "sb.pointplot(x= 'Date',y = 'Frequency', data = cpb_line,ax=ax4)\n",
    "for i in range(0,16):\n",
    "    plt.text(i+0.01,cpb_line['Frequency'][i]+0.002,f\"{cpb_line['Frequency'][i]:.2f}\",va = 'bottom',fontsize = 12,fontweight ='bold')\n",
    "plt.title('Daily consumption times per user',fontsize = 15)\n",
    "plt.show()"
   ]
  },
  {
   "cell_type": "code",
   "execution_count": 69,
   "id": "5af66e9b",
   "metadata": {},
   "outputs": [
    {
     "data": {
      "text/html": [
       "<div>\n",
       "<style scoped>\n",
       "    .dataframe tbody tr th:only-of-type {\n",
       "        vertical-align: middle;\n",
       "    }\n",
       "\n",
       "    .dataframe tbody tr th {\n",
       "        vertical-align: top;\n",
       "    }\n",
       "\n",
       "    .dataframe thead th {\n",
       "        text-align: right;\n",
       "    }\n",
       "</style>\n",
       "<table border=\"1\" class=\"dataframe\">\n",
       "  <thead>\n",
       "    <tr style=\"text-align: right;\">\n",
       "      <th></th>\n",
       "      <th>user_id</th>\n",
       "      <th>sku_id</th>\n",
       "      <th>action_time</th>\n",
       "      <th>type</th>\n",
       "      <th>date</th>\n",
       "      <th>hour</th>\n",
       "      <th>week</th>\n",
       "    </tr>\n",
       "  </thead>\n",
       "  <tbody>\n",
       "    <tr>\n",
       "      <th>0</th>\n",
       "      <td>1455298</td>\n",
       "      <td>208441</td>\n",
       "      <td>2018-04-11 15:21:43</td>\n",
       "      <td>pv</td>\n",
       "      <td>2018-04-11</td>\n",
       "      <td>15</td>\n",
       "      <td>Wednesday</td>\n",
       "    </tr>\n",
       "    <tr>\n",
       "      <th>1</th>\n",
       "      <td>1455298</td>\n",
       "      <td>334318</td>\n",
       "      <td>2018-04-11 15:14:54</td>\n",
       "      <td>pv</td>\n",
       "      <td>2018-04-11</td>\n",
       "      <td>15</td>\n",
       "      <td>Wednesday</td>\n",
       "    </tr>\n",
       "    <tr>\n",
       "      <th>2</th>\n",
       "      <td>1455298</td>\n",
       "      <td>237755</td>\n",
       "      <td>2018-04-11 15:14:13</td>\n",
       "      <td>pv</td>\n",
       "      <td>2018-04-11</td>\n",
       "      <td>15</td>\n",
       "      <td>Wednesday</td>\n",
       "    </tr>\n",
       "    <tr>\n",
       "      <th>3</th>\n",
       "      <td>1455298</td>\n",
       "      <td>6422</td>\n",
       "      <td>2018-04-11 15:22:25</td>\n",
       "      <td>pv</td>\n",
       "      <td>2018-04-11</td>\n",
       "      <td>15</td>\n",
       "      <td>Wednesday</td>\n",
       "    </tr>\n",
       "    <tr>\n",
       "      <th>4</th>\n",
       "      <td>1455298</td>\n",
       "      <td>268566</td>\n",
       "      <td>2018-04-11 15:14:26</td>\n",
       "      <td>pv</td>\n",
       "      <td>2018-04-11</td>\n",
       "      <td>15</td>\n",
       "      <td>Wednesday</td>\n",
       "    </tr>\n",
       "  </tbody>\n",
       "</table>\n",
       "</div>"
      ],
      "text/plain": [
       "   user_id  sku_id          action_time type        date  hour       week\n",
       "0  1455298  208441  2018-04-11 15:21:43   pv  2018-04-11    15  Wednesday\n",
       "1  1455298  334318  2018-04-11 15:14:54   pv  2018-04-11    15  Wednesday\n",
       "2  1455298  237755  2018-04-11 15:14:13   pv  2018-04-11    15  Wednesday\n",
       "3  1455298    6422  2018-04-11 15:22:25   pv  2018-04-11    15  Wednesday\n",
       "4  1455298  268566  2018-04-11 15:14:26   pv  2018-04-11    15  Wednesday"
      ]
     },
     "execution_count": 69,
     "metadata": {},
     "output_type": "execute_result"
    }
   ],
   "source": [
    "behavior_data.head()"
   ]
  },
  {
   "cell_type": "code",
   "execution_count": 70,
   "id": "db4af324",
   "metadata": {},
   "outputs": [],
   "source": [
    "multi_con3= behavior_data.groupby(['user_id','date']).action_time.count().reset_index()"
   ]
  },
  {
   "cell_type": "code",
   "execution_count": 71,
   "id": "942a94fd",
   "metadata": {},
   "outputs": [
    {
     "data": {
      "text/html": [
       "<div>\n",
       "<style scoped>\n",
       "    .dataframe tbody tr th:only-of-type {\n",
       "        vertical-align: middle;\n",
       "    }\n",
       "\n",
       "    .dataframe tbody tr th {\n",
       "        vertical-align: top;\n",
       "    }\n",
       "\n",
       "    .dataframe thead th {\n",
       "        text-align: right;\n",
       "    }\n",
       "</style>\n",
       "<table border=\"1\" class=\"dataframe\">\n",
       "  <thead>\n",
       "    <tr style=\"text-align: right;\">\n",
       "      <th></th>\n",
       "      <th>user_id</th>\n",
       "      <th>date</th>\n",
       "      <th>action_time</th>\n",
       "    </tr>\n",
       "  </thead>\n",
       "  <tbody>\n",
       "    <tr>\n",
       "      <th>0</th>\n",
       "      <td>2</td>\n",
       "      <td>2018-03-30</td>\n",
       "      <td>1</td>\n",
       "    </tr>\n",
       "    <tr>\n",
       "      <th>1</th>\n",
       "      <td>2</td>\n",
       "      <td>2018-03-31</td>\n",
       "      <td>1</td>\n",
       "    </tr>\n",
       "    <tr>\n",
       "      <th>2</th>\n",
       "      <td>2</td>\n",
       "      <td>2018-04-02</td>\n",
       "      <td>2</td>\n",
       "    </tr>\n",
       "    <tr>\n",
       "      <th>3</th>\n",
       "      <td>2</td>\n",
       "      <td>2018-04-03</td>\n",
       "      <td>4</td>\n",
       "    </tr>\n",
       "    <tr>\n",
       "      <th>4</th>\n",
       "      <td>2</td>\n",
       "      <td>2018-04-04</td>\n",
       "      <td>8</td>\n",
       "    </tr>\n",
       "  </tbody>\n",
       "</table>\n",
       "</div>"
      ],
      "text/plain": [
       "   user_id        date  action_time\n",
       "0        2  2018-03-30            1\n",
       "1        2  2018-03-31            1\n",
       "2        2  2018-04-02            2\n",
       "3        2  2018-04-03            4\n",
       "4        2  2018-04-04            8"
      ]
     },
     "execution_count": 71,
     "metadata": {},
     "output_type": "execute_result"
    }
   ],
   "source": [
    "multi_con3.head()"
   ]
  },
  {
   "cell_type": "code",
   "execution_count": 72,
   "id": "45ca4e3d",
   "metadata": {},
   "outputs": [],
   "source": [
    "multi_con3_detail = multi_con3[multi_con3['action_time']>=3]"
   ]
  },
  {
   "cell_type": "code",
   "execution_count": 73,
   "id": "9e0039e7",
   "metadata": {},
   "outputs": [
    {
     "data": {
      "text/html": [
       "<div>\n",
       "<style scoped>\n",
       "    .dataframe tbody tr th:only-of-type {\n",
       "        vertical-align: middle;\n",
       "    }\n",
       "\n",
       "    .dataframe tbody tr th {\n",
       "        vertical-align: top;\n",
       "    }\n",
       "\n",
       "    .dataframe thead th {\n",
       "        text-align: right;\n",
       "    }\n",
       "</style>\n",
       "<table border=\"1\" class=\"dataframe\">\n",
       "  <thead>\n",
       "    <tr style=\"text-align: right;\">\n",
       "      <th></th>\n",
       "      <th>user_id</th>\n",
       "      <th>date</th>\n",
       "      <th>action_time</th>\n",
       "    </tr>\n",
       "  </thead>\n",
       "  <tbody>\n",
       "    <tr>\n",
       "      <th>3</th>\n",
       "      <td>2</td>\n",
       "      <td>2018-04-03</td>\n",
       "      <td>4</td>\n",
       "    </tr>\n",
       "    <tr>\n",
       "      <th>4</th>\n",
       "      <td>2</td>\n",
       "      <td>2018-04-04</td>\n",
       "      <td>8</td>\n",
       "    </tr>\n",
       "    <tr>\n",
       "      <th>6</th>\n",
       "      <td>2</td>\n",
       "      <td>2018-04-07</td>\n",
       "      <td>8</td>\n",
       "    </tr>\n",
       "    <tr>\n",
       "      <th>7</th>\n",
       "      <td>2</td>\n",
       "      <td>2018-04-08</td>\n",
       "      <td>17</td>\n",
       "    </tr>\n",
       "    <tr>\n",
       "      <th>8</th>\n",
       "      <td>2</td>\n",
       "      <td>2018-04-09</td>\n",
       "      <td>11</td>\n",
       "    </tr>\n",
       "  </tbody>\n",
       "</table>\n",
       "</div>"
      ],
      "text/plain": [
       "   user_id        date  action_time\n",
       "3        2  2018-04-03            4\n",
       "4        2  2018-04-04            8\n",
       "6        2  2018-04-07            8\n",
       "7        2  2018-04-08           17\n",
       "8        2  2018-04-09           11"
      ]
     },
     "execution_count": 73,
     "metadata": {},
     "output_type": "execute_result"
    }
   ],
   "source": [
    "multi_con3_detail.head()"
   ]
  },
  {
   "cell_type": "code",
   "execution_count": 74,
   "id": "c9e03da1",
   "metadata": {},
   "outputs": [],
   "source": [
    "multi_con3_detail_active3 = multi_con3_detail.groupby('date').user_id.count().reset_index()"
   ]
  },
  {
   "cell_type": "code",
   "execution_count": 75,
   "id": "ea14c6e4",
   "metadata": {},
   "outputs": [
    {
     "data": {
      "text/html": [
       "<div>\n",
       "<style scoped>\n",
       "    .dataframe tbody tr th:only-of-type {\n",
       "        vertical-align: middle;\n",
       "    }\n",
       "\n",
       "    .dataframe tbody tr th {\n",
       "        vertical-align: top;\n",
       "    }\n",
       "\n",
       "    .dataframe thead th {\n",
       "        text-align: right;\n",
       "    }\n",
       "</style>\n",
       "<table border=\"1\" class=\"dataframe\">\n",
       "  <thead>\n",
       "    <tr style=\"text-align: right;\">\n",
       "      <th></th>\n",
       "      <th>date</th>\n",
       "      <th>user_id</th>\n",
       "    </tr>\n",
       "  </thead>\n",
       "  <tbody>\n",
       "    <tr>\n",
       "      <th>0</th>\n",
       "      <td>2018-03-30</td>\n",
       "      <td>43448</td>\n",
       "    </tr>\n",
       "    <tr>\n",
       "      <th>1</th>\n",
       "      <td>2018-03-31</td>\n",
       "      <td>43864</td>\n",
       "    </tr>\n",
       "    <tr>\n",
       "      <th>2</th>\n",
       "      <td>2018-04-01</td>\n",
       "      <td>42866</td>\n",
       "    </tr>\n",
       "    <tr>\n",
       "      <th>3</th>\n",
       "      <td>2018-04-02</td>\n",
       "      <td>43399</td>\n",
       "    </tr>\n",
       "    <tr>\n",
       "      <th>4</th>\n",
       "      <td>2018-04-03</td>\n",
       "      <td>43983</td>\n",
       "    </tr>\n",
       "  </tbody>\n",
       "</table>\n",
       "</div>"
      ],
      "text/plain": [
       "         date  user_id\n",
       "0  2018-03-30    43448\n",
       "1  2018-03-31    43864\n",
       "2  2018-04-01    42866\n",
       "3  2018-04-02    43399\n",
       "4  2018-04-03    43983"
      ]
     },
     "execution_count": 75,
     "metadata": {},
     "output_type": "execute_result"
    }
   ],
   "source": [
    "multi_con3_detail_active3.head()"
   ]
  },
  {
   "cell_type": "code",
   "execution_count": 76,
   "id": "e814f90b",
   "metadata": {},
   "outputs": [
    {
     "data": {
      "image/png": "[encoded data removed]",
      "text/plain": [
       "<Figure size 1080x360 with 1 Axes>"
      ]
     },
     "metadata": {
      "needs_background": "light"
     },
     "output_type": "display_data"
    }
   ],
   "source": [
    "sb.pointplot(x = 'date',y = 'user_id',data = multi_con3_detail_active3,color = 'teal')\n",
    "for i in range(0,15):\n",
    "    plt.text(i+0.01,multi_con3_detail_active3['user_id'][i]+500,f\"{multi_con3_detail_active3['user_id'][i]}\",ha = 'center',va = 'bottom',fontsize = 9.5,fontweight = 'semibold',color = 'teal')\n",
    "plt.title('Daily active user',fontsize = 15) \n",
    "plt.show()"
   ]
  },
  {
   "cell_type": "markdown",
   "id": "323eb818",
   "metadata": {},
   "source": [
    "##### It is stable before April 4th. After April 5th, the trend is up! Then the trend is down after April 10th. The marketing promotion might be the reason for up trend between April 7th to April 14th. "
   ]
  },
  {
   "cell_type": "code",
   "execution_count": 77,
   "id": "f6eab01b",
   "metadata": {},
   "outputs": [],
   "source": [
    "multi_con3_sum = multi_con3.groupby('user_id').date.count()"
   ]
  },
  {
   "cell_type": "code",
   "execution_count": 78,
   "id": "5c7395f6",
   "metadata": {},
   "outputs": [
    {
     "data": {
      "text/plain": [
       "array([14,  8,  2, ...,  1,  3,  2], dtype=int64)"
      ]
     },
     "execution_count": 78,
     "metadata": {},
     "output_type": "execute_result"
    }
   ],
   "source": [
    "multi_con3_sum.values"
   ]
  },
  {
   "cell_type": "code",
   "execution_count": 79,
   "id": "d0818aeb",
   "metadata": {},
   "outputs": [
    {
     "name": "stderr",
     "output_type": "stream",
     "text": [
      "C:\\ProgramData\\Anaconda3\\lib\\site-packages\\seaborn\\_decorators.py:36: FutureWarning: Pass the following variable as a keyword arg: x. From version 0.12, the only valid positional argument will be `data`, and passing other arguments without an explicit keyword will result in an error or misinterpretation.\n",
      "  warnings.warn(\n"
     ]
    },
    {
     "data": {
      "text/plain": [
       "Text(0.5, 1.0, 'Highly active user distribution')"
      ]
     },
     "execution_count": 79,
     "metadata": {},
     "output_type": "execute_result"
    },
    {
     "data": {
      "image/png": "[encoded data removed]",
      "text/plain": [
       "<Figure size 1152x432 with 1 Axes>"
      ]
     },
     "metadata": {
      "needs_background": "light"
     },
     "output_type": "display_data"
    }
   ],
   "source": [
    "fig, ax = plt.subplots(figsize = [16,6])\n",
    "ax.set_yscale('log')\n",
    "sb.countplot(multi_con3_sum.values,palette = 'Set1')\n",
    "for p in ax.patches:\n",
    "   ax.annotate(f\"{(p.get_height()/len(multi_con3_sum.values))*100:.2f}%\",(p.get_x()+0.2,p.get_height()+100))\n",
    "plt.title('Highly active user distribution',fontsize = 15)"
   ]
  },
  {
   "cell_type": "markdown",
   "id": "3ec08532",
   "metadata": {},
   "source": [
    "##### Most users active period are no more than 6 days. We can try to put forward log in day-to-day awards."
   ]
  },
  {
   "cell_type": "code",
   "execution_count": 80,
   "id": "b6ed59a5",
   "metadata": {},
   "outputs": [],
   "source": [
    "daily_view_amount = behavior_data.groupby('date').user_id.count().reset_index()"
   ]
  },
  {
   "cell_type": "code",
   "execution_count": 81,
   "id": "fc3a1575",
   "metadata": {},
   "outputs": [
    {
     "data": {
      "text/html": [
       "<div>\n",
       "<style scoped>\n",
       "    .dataframe tbody tr th:only-of-type {\n",
       "        vertical-align: middle;\n",
       "    }\n",
       "\n",
       "    .dataframe tbody tr th {\n",
       "        vertical-align: top;\n",
       "    }\n",
       "\n",
       "    .dataframe thead th {\n",
       "        text-align: right;\n",
       "    }\n",
       "</style>\n",
       "<table border=\"1\" class=\"dataframe\">\n",
       "  <thead>\n",
       "    <tr style=\"text-align: right;\">\n",
       "      <th></th>\n",
       "      <th>date</th>\n",
       "      <th>user_id</th>\n",
       "    </tr>\n",
       "  </thead>\n",
       "  <tbody>\n",
       "    <tr>\n",
       "      <th>0</th>\n",
       "      <td>2018-03-30</td>\n",
       "      <td>444890</td>\n",
       "    </tr>\n",
       "    <tr>\n",
       "      <th>1</th>\n",
       "      <td>2018-03-31</td>\n",
       "      <td>456330</td>\n",
       "    </tr>\n",
       "    <tr>\n",
       "      <th>2</th>\n",
       "      <td>2018-04-01</td>\n",
       "      <td>429185</td>\n",
       "    </tr>\n",
       "    <tr>\n",
       "      <th>3</th>\n",
       "      <td>2018-04-02</td>\n",
       "      <td>420194</td>\n",
       "    </tr>\n",
       "    <tr>\n",
       "      <th>4</th>\n",
       "      <td>2018-04-03</td>\n",
       "      <td>431010</td>\n",
       "    </tr>\n",
       "  </tbody>\n",
       "</table>\n",
       "</div>"
      ],
      "text/plain": [
       "         date  user_id\n",
       "0  2018-03-30   444890\n",
       "1  2018-03-31   456330\n",
       "2  2018-04-01   429185\n",
       "3  2018-04-02   420194\n",
       "4  2018-04-03   431010"
      ]
     },
     "execution_count": 81,
     "metadata": {},
     "output_type": "execute_result"
    }
   ],
   "source": [
    "daily_view_amount.head()"
   ]
  },
  {
   "cell_type": "code",
   "execution_count": 82,
   "id": "c6440aac",
   "metadata": {},
   "outputs": [
    {
     "data": {
      "text/plain": [
       "Text(0.5, 1.0, 'Daily Views')"
      ]
     },
     "execution_count": 82,
     "metadata": {},
     "output_type": "execute_result"
    },
    {
     "data": {
      "image/png": "[encoded data removed]",
      "text/plain": [
       "<Figure size 1152x432 with 1 Axes>"
      ]
     },
     "metadata": {
      "needs_background": "light"
     },
     "output_type": "display_data"
    }
   ],
   "source": [
    "plt.figure(figsize = (16,6))\n",
    "sb.pointplot(x ='date',y = 'user_id',data = daily_view_amount,color = 'teal' )\n",
    "for i in range(15):\n",
    "    plt.text(i+0.2,daily_view_amount['user_id'][i]+1000,f\"{daily_view_amount['user_id'][i]}\",ha = 'center',va = 'bottom',color = 'teal',weight = 'bold')\n",
    "plt.title('Daily Views',fontsize = 15)    "
   ]
  },
  {
   "cell_type": "code",
   "execution_count": 83,
   "id": "1759f889",
   "metadata": {},
   "outputs": [],
   "source": [
    "daily_view_unique = behavior_data.groupby('date').user_id.nunique().reset_index()"
   ]
  },
  {
   "cell_type": "code",
   "execution_count": 84,
   "id": "20f78688",
   "metadata": {},
   "outputs": [
    {
     "data": {
      "text/html": [
       "<div>\n",
       "<style scoped>\n",
       "    .dataframe tbody tr th:only-of-type {\n",
       "        vertical-align: middle;\n",
       "    }\n",
       "\n",
       "    .dataframe tbody tr th {\n",
       "        vertical-align: top;\n",
       "    }\n",
       "\n",
       "    .dataframe thead th {\n",
       "        text-align: right;\n",
       "    }\n",
       "</style>\n",
       "<table border=\"1\" class=\"dataframe\">\n",
       "  <thead>\n",
       "    <tr style=\"text-align: right;\">\n",
       "      <th></th>\n",
       "      <th>date</th>\n",
       "      <th>user_id</th>\n",
       "    </tr>\n",
       "  </thead>\n",
       "  <tbody>\n",
       "    <tr>\n",
       "      <th>0</th>\n",
       "      <td>2018-03-30</td>\n",
       "      <td>105562</td>\n",
       "    </tr>\n",
       "    <tr>\n",
       "      <th>1</th>\n",
       "      <td>2018-03-31</td>\n",
       "      <td>103626</td>\n",
       "    </tr>\n",
       "    <tr>\n",
       "      <th>2</th>\n",
       "      <td>2018-04-01</td>\n",
       "      <td>102604</td>\n",
       "    </tr>\n",
       "    <tr>\n",
       "      <th>3</th>\n",
       "      <td>2018-04-02</td>\n",
       "      <td>105061</td>\n",
       "    </tr>\n",
       "    <tr>\n",
       "      <th>4</th>\n",
       "      <td>2018-04-03</td>\n",
       "      <td>108092</td>\n",
       "    </tr>\n",
       "  </tbody>\n",
       "</table>\n",
       "</div>"
      ],
      "text/plain": [
       "         date  user_id\n",
       "0  2018-03-30   105562\n",
       "1  2018-03-31   103626\n",
       "2  2018-04-01   102604\n",
       "3  2018-04-02   105061\n",
       "4  2018-04-03   108092"
      ]
     },
     "execution_count": 84,
     "metadata": {},
     "output_type": "execute_result"
    }
   ],
   "source": [
    "daily_view_unique.head()"
   ]
  },
  {
   "cell_type": "code",
   "execution_count": 85,
   "id": "7381507d",
   "metadata": {},
   "outputs": [
    {
     "data": {
      "text/plain": [
       "Text(0.5, 1.0, 'Daily Viewers')"
      ]
     },
     "execution_count": 85,
     "metadata": {},
     "output_type": "execute_result"
    },
    {
     "data": {
      "image/png": "[encoded data removed]",
      "text/plain": [
       "<Figure size 1152x432 with 1 Axes>"
      ]
     },
     "metadata": {
      "needs_background": "light"
     },
     "output_type": "display_data"
    }
   ],
   "source": [
    "plt.figure(figsize = (16,6))\n",
    "sb.pointplot(x ='date',y = 'user_id',data = daily_view_unique,color = 'teal' )\n",
    "for i in range(15):\n",
    "    plt.text(i+0.2,daily_view_unique['user_id'][i]+1000,f\"{daily_view_unique['user_id'][i]}\",ha = 'center',va = 'bottom',color = 'teal',weight = 'bold')\n",
    "plt.title('Daily Viewers',fontsize = 15)    "
   ]
  },
  {
   "cell_type": "markdown",
   "id": "0e4a8b2f",
   "metadata": {},
   "source": [
    "###### The viewers and views have similar line graph trend. The shortest number is at April 4th. The reason might be April 4th is one traditional holiday in China. "
   ]
  },
  {
   "cell_type": "code",
   "execution_count": 86,
   "id": "d3f87404",
   "metadata": {},
   "outputs": [],
   "source": [
    "views_perhour = behavior_data[behavior_data.type =='pv'].groupby('hour').user_id.count().reset_index()"
   ]
  },
  {
   "cell_type": "code",
   "execution_count": 87,
   "id": "24d948b5",
   "metadata": {},
   "outputs": [
    {
     "data": {
      "text/html": [
       "<div>\n",
       "<style scoped>\n",
       "    .dataframe tbody tr th:only-of-type {\n",
       "        vertical-align: middle;\n",
       "    }\n",
       "\n",
       "    .dataframe tbody tr th {\n",
       "        vertical-align: top;\n",
       "    }\n",
       "\n",
       "    .dataframe thead th {\n",
       "        text-align: right;\n",
       "    }\n",
       "</style>\n",
       "<table border=\"1\" class=\"dataframe\">\n",
       "  <thead>\n",
       "    <tr style=\"text-align: right;\">\n",
       "      <th></th>\n",
       "      <th>hour</th>\n",
       "      <th>user_id</th>\n",
       "    </tr>\n",
       "  </thead>\n",
       "  <tbody>\n",
       "    <tr>\n",
       "      <th>0</th>\n",
       "      <td>0</td>\n",
       "      <td>222892</td>\n",
       "    </tr>\n",
       "    <tr>\n",
       "      <th>1</th>\n",
       "      <td>1</td>\n",
       "      <td>95449</td>\n",
       "    </tr>\n",
       "    <tr>\n",
       "      <th>2</th>\n",
       "      <td>2</td>\n",
       "      <td>50058</td>\n",
       "    </tr>\n",
       "    <tr>\n",
       "      <th>3</th>\n",
       "      <td>3</td>\n",
       "      <td>35245</td>\n",
       "    </tr>\n",
       "    <tr>\n",
       "      <th>4</th>\n",
       "      <td>4</td>\n",
       "      <td>31482</td>\n",
       "    </tr>\n",
       "  </tbody>\n",
       "</table>\n",
       "</div>"
      ],
      "text/plain": [
       "   hour  user_id\n",
       "0     0   222892\n",
       "1     1    95449\n",
       "2     2    50058\n",
       "3     3    35245\n",
       "4     4    31482"
      ]
     },
     "execution_count": 87,
     "metadata": {},
     "output_type": "execute_result"
    }
   ],
   "source": [
    "views_perhour.head()"
   ]
  },
  {
   "cell_type": "code",
   "execution_count": 88,
   "id": "ac4d593e",
   "metadata": {},
   "outputs": [
    {
     "data": {
      "image/png": "[encoded data removed]",
      "text/plain": [
       "<Figure size 1152x432 with 1 Axes>"
      ]
     },
     "metadata": {
      "needs_background": "light"
     },
     "output_type": "display_data"
    }
   ],
   "source": [
    "plt.figure(figsize = (16,6))\n",
    "sb.pointplot(x ='hour',y = 'user_id',data = views_perhour,color = 'teal' )\n",
    "for i in range(24):\n",
    "    plt.text(i+0.2,views_perhour['user_id'][i]+1000,f\"{views_perhour['user_id'][i]}\",ha = 'center',va = 'bottom',color = 'teal',weight = 'bold')\n",
    "plt.title('Hourly Views',fontsize = 15)\n",
    "plt.show()"
   ]
  },
  {
   "cell_type": "code",
   "execution_count": 89,
   "id": "48ca88a8",
   "metadata": {},
   "outputs": [],
   "source": [
    "viewers_per_hour1 = behavior_data[behavior_data.type =='pv'].groupby('hour').user_id.nunique().reset_index()"
   ]
  },
  {
   "cell_type": "code",
   "execution_count": 90,
   "id": "2d0a6d11",
   "metadata": {},
   "outputs": [
    {
     "data": {
      "text/html": [
       "<div>\n",
       "<style scoped>\n",
       "    .dataframe tbody tr th:only-of-type {\n",
       "        vertical-align: middle;\n",
       "    }\n",
       "\n",
       "    .dataframe tbody tr th {\n",
       "        vertical-align: top;\n",
       "    }\n",
       "\n",
       "    .dataframe thead th {\n",
       "        text-align: right;\n",
       "    }\n",
       "</style>\n",
       "<table border=\"1\" class=\"dataframe\">\n",
       "  <thead>\n",
       "    <tr style=\"text-align: right;\">\n",
       "      <th></th>\n",
       "      <th>hour</th>\n",
       "      <th>user_id</th>\n",
       "    </tr>\n",
       "  </thead>\n",
       "  <tbody>\n",
       "    <tr>\n",
       "      <th>0</th>\n",
       "      <td>0</td>\n",
       "      <td>49726</td>\n",
       "    </tr>\n",
       "    <tr>\n",
       "      <th>1</th>\n",
       "      <td>1</td>\n",
       "      <td>23016</td>\n",
       "    </tr>\n",
       "    <tr>\n",
       "      <th>2</th>\n",
       "      <td>2</td>\n",
       "      <td>12989</td>\n",
       "    </tr>\n",
       "    <tr>\n",
       "      <th>3</th>\n",
       "      <td>3</td>\n",
       "      <td>9445</td>\n",
       "    </tr>\n",
       "    <tr>\n",
       "      <th>4</th>\n",
       "      <td>4</td>\n",
       "      <td>8969</td>\n",
       "    </tr>\n",
       "  </tbody>\n",
       "</table>\n",
       "</div>"
      ],
      "text/plain": [
       "   hour  user_id\n",
       "0     0    49726\n",
       "1     1    23016\n",
       "2     2    12989\n",
       "3     3     9445\n",
       "4     4     8969"
      ]
     },
     "execution_count": 90,
     "metadata": {},
     "output_type": "execute_result"
    }
   ],
   "source": [
    "viewers_per_hour1.head()"
   ]
  },
  {
   "cell_type": "code",
   "execution_count": 91,
   "id": "abe482b8",
   "metadata": {},
   "outputs": [
    {
     "data": {
      "image/png": "[encoded data removed]",
      "text/plain": [
       "<Figure size 1152x432 with 1 Axes>"
      ]
     },
     "metadata": {
      "needs_background": "light"
     },
     "output_type": "display_data"
    }
   ],
   "source": [
    "plt.figure(figsize = (16,6))\n",
    "sb.pointplot(x ='hour',y = 'user_id',data = viewers_per_hour1,color = 'teal' )\n",
    "for i in range(24):\n",
    "    plt.text(i+0.2,viewers_per_hour1['user_id'][i]+1000,f\"{viewers_per_hour1['user_id'][i]}\",ha = 'center',va = 'bottom',color = 'teal',weight = 'bold')\n",
    "plt.title('Hourly Viewers',fontsize = 15)\n",
    "plt.show()"
   ]
  },
  {
   "cell_type": "markdown",
   "id": "223f40e5",
   "metadata": {},
   "source": [
    "##### It is recommended to do system maintence between 0:00 am to 5:00 am in the morning. Then we can increase the promotion efforts for a product at 9 am and 21:00 pm."
   ]
  },
  {
   "cell_type": "code",
   "execution_count": 92,
   "id": "33a69fe5",
   "metadata": {},
   "outputs": [
    {
     "data": {
      "text/html": [
       "<div>\n",
       "<style scoped>\n",
       "    .dataframe tbody tr th:only-of-type {\n",
       "        vertical-align: middle;\n",
       "    }\n",
       "\n",
       "    .dataframe tbody tr th {\n",
       "        vertical-align: top;\n",
       "    }\n",
       "\n",
       "    .dataframe thead th {\n",
       "        text-align: right;\n",
       "    }\n",
       "</style>\n",
       "<table border=\"1\" class=\"dataframe\">\n",
       "  <thead>\n",
       "    <tr style=\"text-align: right;\">\n",
       "      <th></th>\n",
       "      <th>user_id</th>\n",
       "      <th>sku_id</th>\n",
       "      <th>action_time</th>\n",
       "      <th>type</th>\n",
       "      <th>date</th>\n",
       "      <th>hour</th>\n",
       "      <th>week</th>\n",
       "    </tr>\n",
       "  </thead>\n",
       "  <tbody>\n",
       "    <tr>\n",
       "      <th>0</th>\n",
       "      <td>1455298</td>\n",
       "      <td>208441</td>\n",
       "      <td>2018-04-11 15:21:43</td>\n",
       "      <td>pv</td>\n",
       "      <td>2018-04-11</td>\n",
       "      <td>15</td>\n",
       "      <td>Wednesday</td>\n",
       "    </tr>\n",
       "    <tr>\n",
       "      <th>1</th>\n",
       "      <td>1455298</td>\n",
       "      <td>334318</td>\n",
       "      <td>2018-04-11 15:14:54</td>\n",
       "      <td>pv</td>\n",
       "      <td>2018-04-11</td>\n",
       "      <td>15</td>\n",
       "      <td>Wednesday</td>\n",
       "    </tr>\n",
       "    <tr>\n",
       "      <th>2</th>\n",
       "      <td>1455298</td>\n",
       "      <td>237755</td>\n",
       "      <td>2018-04-11 15:14:13</td>\n",
       "      <td>pv</td>\n",
       "      <td>2018-04-11</td>\n",
       "      <td>15</td>\n",
       "      <td>Wednesday</td>\n",
       "    </tr>\n",
       "    <tr>\n",
       "      <th>3</th>\n",
       "      <td>1455298</td>\n",
       "      <td>6422</td>\n",
       "      <td>2018-04-11 15:22:25</td>\n",
       "      <td>pv</td>\n",
       "      <td>2018-04-11</td>\n",
       "      <td>15</td>\n",
       "      <td>Wednesday</td>\n",
       "    </tr>\n",
       "    <tr>\n",
       "      <th>4</th>\n",
       "      <td>1455298</td>\n",
       "      <td>268566</td>\n",
       "      <td>2018-04-11 15:14:26</td>\n",
       "      <td>pv</td>\n",
       "      <td>2018-04-11</td>\n",
       "      <td>15</td>\n",
       "      <td>Wednesday</td>\n",
       "    </tr>\n",
       "  </tbody>\n",
       "</table>\n",
       "</div>"
      ],
      "text/plain": [
       "   user_id  sku_id          action_time type        date  hour       week\n",
       "0  1455298  208441  2018-04-11 15:21:43   pv  2018-04-11    15  Wednesday\n",
       "1  1455298  334318  2018-04-11 15:14:54   pv  2018-04-11    15  Wednesday\n",
       "2  1455298  237755  2018-04-11 15:14:13   pv  2018-04-11    15  Wednesday\n",
       "3  1455298    6422  2018-04-11 15:22:25   pv  2018-04-11    15  Wednesday\n",
       "4  1455298  268566  2018-04-11 15:14:26   pv  2018-04-11    15  Wednesday"
      ]
     },
     "execution_count": 92,
     "metadata": {},
     "output_type": "execute_result"
    }
   ],
   "source": [
    "behavior_data.head()"
   ]
  },
  {
   "cell_type": "code",
   "execution_count": 93,
   "id": "b31999cc",
   "metadata": {},
   "outputs": [],
   "source": [
    "type_detail_hour = pd.pivot_table(columns ='type',index = 'hour',data =behavior_data ,aggfunc=np.size,values= 'user_id')"
   ]
  },
  {
   "cell_type": "code",
   "execution_count": 94,
   "id": "f20331d3",
   "metadata": {},
   "outputs": [],
   "source": [
    "type_detail_weekday=pd.pivot_table(columns = 'type',index = 'week',data = behavior_data,aggfunc=np.size,values ='user_id')"
   ]
  },
  {
   "cell_type": "code",
   "execution_count": 95,
   "id": "0f4b0e7d",
   "metadata": {},
   "outputs": [],
   "source": [
    "type_detail_weekday = type_detail_weekday.reindex(['Monday','Tuesday','Wednesday','Thursday','Friday','Saturday','Sunday'])"
   ]
  },
  {
   "cell_type": "code",
   "execution_count": 96,
   "id": "b4a407bf",
   "metadata": {},
   "outputs": [
    {
     "data": {
      "text/html": [
       "<div>\n",
       "<style scoped>\n",
       "    .dataframe tbody tr th:only-of-type {\n",
       "        vertical-align: middle;\n",
       "    }\n",
       "\n",
       "    .dataframe tbody tr th {\n",
       "        vertical-align: top;\n",
       "    }\n",
       "\n",
       "    .dataframe thead th {\n",
       "        text-align: right;\n",
       "    }\n",
       "</style>\n",
       "<table border=\"1\" class=\"dataframe\">\n",
       "  <thead>\n",
       "    <tr style=\"text-align: right;\">\n",
       "      <th>type</th>\n",
       "      <th>cart</th>\n",
       "      <th>comm</th>\n",
       "      <th>fav</th>\n",
       "      <th>pay</th>\n",
       "      <th>pv</th>\n",
       "    </tr>\n",
       "    <tr>\n",
       "      <th>hour</th>\n",
       "      <th></th>\n",
       "      <th></th>\n",
       "      <th></th>\n",
       "      <th></th>\n",
       "      <th></th>\n",
       "    </tr>\n",
       "  </thead>\n",
       "  <tbody>\n",
       "    <tr>\n",
       "      <th>0</th>\n",
       "      <td>18005</td>\n",
       "      <td>3444</td>\n",
       "      <td>2514</td>\n",
       "      <td>12252</td>\n",
       "      <td>222892</td>\n",
       "    </tr>\n",
       "    <tr>\n",
       "      <th>1</th>\n",
       "      <td>7624</td>\n",
       "      <td>1524</td>\n",
       "      <td>1216</td>\n",
       "      <td>5253</td>\n",
       "      <td>95449</td>\n",
       "    </tr>\n",
       "    <tr>\n",
       "      <th>2</th>\n",
       "      <td>3955</td>\n",
       "      <td>846</td>\n",
       "      <td>662</td>\n",
       "      <td>2784</td>\n",
       "      <td>50058</td>\n",
       "    </tr>\n",
       "    <tr>\n",
       "      <th>3</th>\n",
       "      <td>2711</td>\n",
       "      <td>577</td>\n",
       "      <td>496</td>\n",
       "      <td>1730</td>\n",
       "      <td>35245</td>\n",
       "    </tr>\n",
       "    <tr>\n",
       "      <th>4</th>\n",
       "      <td>2368</td>\n",
       "      <td>518</td>\n",
       "      <td>385</td>\n",
       "      <td>1503</td>\n",
       "      <td>31482</td>\n",
       "    </tr>\n",
       "  </tbody>\n",
       "</table>\n",
       "</div>"
      ],
      "text/plain": [
       "type   cart  comm   fav    pay      pv\n",
       "hour                                  \n",
       "0     18005  3444  2514  12252  222892\n",
       "1      7624  1524  1216   5253   95449\n",
       "2      3955   846   662   2784   50058\n",
       "3      2711   577   496   1730   35245\n",
       "4      2368   518   385   1503   31482"
      ]
     },
     "execution_count": 96,
     "metadata": {},
     "output_type": "execute_result"
    }
   ],
   "source": [
    "type_detail_hour.head()"
   ]
  },
  {
   "cell_type": "code",
   "execution_count": 97,
   "id": "927f2da8",
   "metadata": {},
   "outputs": [],
   "source": [
    "tdh_line = type_detail_hour.stack().reset_index().rename(columns = {0:'Value'})"
   ]
  },
  {
   "cell_type": "code",
   "execution_count": 98,
   "id": "68b65dd6",
   "metadata": {},
   "outputs": [
    {
     "data": {
      "text/html": [
       "<div>\n",
       "<style scoped>\n",
       "    .dataframe tbody tr th:only-of-type {\n",
       "        vertical-align: middle;\n",
       "    }\n",
       "\n",
       "    .dataframe tbody tr th {\n",
       "        vertical-align: top;\n",
       "    }\n",
       "\n",
       "    .dataframe thead th {\n",
       "        text-align: right;\n",
       "    }\n",
       "</style>\n",
       "<table border=\"1\" class=\"dataframe\">\n",
       "  <thead>\n",
       "    <tr style=\"text-align: right;\">\n",
       "      <th></th>\n",
       "      <th>hour</th>\n",
       "      <th>type</th>\n",
       "      <th>Value</th>\n",
       "    </tr>\n",
       "  </thead>\n",
       "  <tbody>\n",
       "    <tr>\n",
       "      <th>0</th>\n",
       "      <td>0</td>\n",
       "      <td>cart</td>\n",
       "      <td>18005</td>\n",
       "    </tr>\n",
       "    <tr>\n",
       "      <th>1</th>\n",
       "      <td>0</td>\n",
       "      <td>comm</td>\n",
       "      <td>3444</td>\n",
       "    </tr>\n",
       "    <tr>\n",
       "      <th>2</th>\n",
       "      <td>0</td>\n",
       "      <td>fav</td>\n",
       "      <td>2514</td>\n",
       "    </tr>\n",
       "    <tr>\n",
       "      <th>3</th>\n",
       "      <td>0</td>\n",
       "      <td>pay</td>\n",
       "      <td>12252</td>\n",
       "    </tr>\n",
       "    <tr>\n",
       "      <th>4</th>\n",
       "      <td>0</td>\n",
       "      <td>pv</td>\n",
       "      <td>222892</td>\n",
       "    </tr>\n",
       "  </tbody>\n",
       "</table>\n",
       "</div>"
      ],
      "text/plain": [
       "   hour  type   Value\n",
       "0     0  cart   18005\n",
       "1     0  comm    3444\n",
       "2     0   fav    2514\n",
       "3     0   pay   12252\n",
       "4     0    pv  222892"
      ]
     },
     "execution_count": 98,
     "metadata": {},
     "output_type": "execute_result"
    }
   ],
   "source": [
    "tdh_line.head()"
   ]
  },
  {
   "cell_type": "code",
   "execution_count": 99,
   "id": "fefe4d51",
   "metadata": {},
   "outputs": [],
   "source": [
    "tdw_line = type_detail_weekday.stack().reset_index().rename(columns = {0:'Value'})"
   ]
  },
  {
   "cell_type": "code",
   "execution_count": 100,
   "id": "bfb2b4d0",
   "metadata": {},
   "outputs": [
    {
     "data": {
      "text/plain": [
       "(120, 3)"
      ]
     },
     "execution_count": 100,
     "metadata": {},
     "output_type": "execute_result"
    }
   ],
   "source": [
    "tdh_line.shape"
   ]
  },
  {
   "cell_type": "code",
   "execution_count": 101,
   "id": "4fa83cc9",
   "metadata": {},
   "outputs": [
    {
     "data": {
      "text/html": [
       "<div>\n",
       "<style scoped>\n",
       "    .dataframe tbody tr th:only-of-type {\n",
       "        vertical-align: middle;\n",
       "    }\n",
       "\n",
       "    .dataframe tbody tr th {\n",
       "        vertical-align: top;\n",
       "    }\n",
       "\n",
       "    .dataframe thead th {\n",
       "        text-align: right;\n",
       "    }\n",
       "</style>\n",
       "<table border=\"1\" class=\"dataframe\">\n",
       "  <thead>\n",
       "    <tr style=\"text-align: right;\">\n",
       "      <th></th>\n",
       "      <th>hour</th>\n",
       "      <th>type</th>\n",
       "      <th>Value</th>\n",
       "    </tr>\n",
       "  </thead>\n",
       "  <tbody>\n",
       "    <tr>\n",
       "      <th>0</th>\n",
       "      <td>0</td>\n",
       "      <td>cart</td>\n",
       "      <td>18005</td>\n",
       "    </tr>\n",
       "    <tr>\n",
       "      <th>1</th>\n",
       "      <td>0</td>\n",
       "      <td>comm</td>\n",
       "      <td>3444</td>\n",
       "    </tr>\n",
       "    <tr>\n",
       "      <th>2</th>\n",
       "      <td>0</td>\n",
       "      <td>fav</td>\n",
       "      <td>2514</td>\n",
       "    </tr>\n",
       "    <tr>\n",
       "      <th>3</th>\n",
       "      <td>0</td>\n",
       "      <td>pay</td>\n",
       "      <td>12252</td>\n",
       "    </tr>\n",
       "    <tr>\n",
       "      <th>5</th>\n",
       "      <td>1</td>\n",
       "      <td>cart</td>\n",
       "      <td>7624</td>\n",
       "    </tr>\n",
       "    <tr>\n",
       "      <th>...</th>\n",
       "      <td>...</td>\n",
       "      <td>...</td>\n",
       "      <td>...</td>\n",
       "    </tr>\n",
       "    <tr>\n",
       "      <th>113</th>\n",
       "      <td>22</td>\n",
       "      <td>pay</td>\n",
       "      <td>32148</td>\n",
       "    </tr>\n",
       "    <tr>\n",
       "      <th>115</th>\n",
       "      <td>23</td>\n",
       "      <td>cart</td>\n",
       "      <td>25027</td>\n",
       "    </tr>\n",
       "    <tr>\n",
       "      <th>116</th>\n",
       "      <td>23</td>\n",
       "      <td>comm</td>\n",
       "      <td>6583</td>\n",
       "    </tr>\n",
       "    <tr>\n",
       "      <th>117</th>\n",
       "      <td>23</td>\n",
       "      <td>fav</td>\n",
       "      <td>4115</td>\n",
       "    </tr>\n",
       "    <tr>\n",
       "      <th>118</th>\n",
       "      <td>23</td>\n",
       "      <td>pay</td>\n",
       "      <td>21132</td>\n",
       "    </tr>\n",
       "  </tbody>\n",
       "</table>\n",
       "<p>96 rows × 3 columns</p>\n",
       "</div>"
      ],
      "text/plain": [
       "     hour  type  Value\n",
       "0       0  cart  18005\n",
       "1       0  comm   3444\n",
       "2       0   fav   2514\n",
       "3       0   pay  12252\n",
       "5       1  cart   7624\n",
       "..    ...   ...    ...\n",
       "113    22   pay  32148\n",
       "115    23  cart  25027\n",
       "116    23  comm   6583\n",
       "117    23   fav   4115\n",
       "118    23   pay  21132\n",
       "\n",
       "[96 rows x 3 columns]"
      ]
     },
     "execution_count": 101,
     "metadata": {},
     "output_type": "execute_result"
    }
   ],
   "source": [
    "tdh_line = tdh_line[~(tdh_line['type'] == 'pv')]\n",
    "tdh_line"
   ]
  },
  {
   "cell_type": "code",
   "execution_count": 102,
   "id": "a4724ee6",
   "metadata": {},
   "outputs": [
    {
     "data": {
      "text/html": [
       "<div>\n",
       "<style scoped>\n",
       "    .dataframe tbody tr th:only-of-type {\n",
       "        vertical-align: middle;\n",
       "    }\n",
       "\n",
       "    .dataframe tbody tr th {\n",
       "        vertical-align: top;\n",
       "    }\n",
       "\n",
       "    .dataframe thead th {\n",
       "        text-align: right;\n",
       "    }\n",
       "</style>\n",
       "<table border=\"1\" class=\"dataframe\">\n",
       "  <thead>\n",
       "    <tr style=\"text-align: right;\">\n",
       "      <th></th>\n",
       "      <th>week</th>\n",
       "      <th>type</th>\n",
       "      <th>Value</th>\n",
       "    </tr>\n",
       "  </thead>\n",
       "  <tbody>\n",
       "    <tr>\n",
       "      <th>0</th>\n",
       "      <td>Monday</td>\n",
       "      <td>cart</td>\n",
       "      <td>83095</td>\n",
       "    </tr>\n",
       "    <tr>\n",
       "      <th>1</th>\n",
       "      <td>Monday</td>\n",
       "      <td>comm</td>\n",
       "      <td>27061</td>\n",
       "    </tr>\n",
       "    <tr>\n",
       "      <th>2</th>\n",
       "      <td>Monday</td>\n",
       "      <td>fav</td>\n",
       "      <td>12118</td>\n",
       "    </tr>\n",
       "    <tr>\n",
       "      <th>3</th>\n",
       "      <td>Monday</td>\n",
       "      <td>pay</td>\n",
       "      <td>61443</td>\n",
       "    </tr>\n",
       "    <tr>\n",
       "      <th>5</th>\n",
       "      <td>Tuesday</td>\n",
       "      <td>cart</td>\n",
       "      <td>82826</td>\n",
       "    </tr>\n",
       "  </tbody>\n",
       "</table>\n",
       "</div>"
      ],
      "text/plain": [
       "      week  type  Value\n",
       "0   Monday  cart  83095\n",
       "1   Monday  comm  27061\n",
       "2   Monday   fav  12118\n",
       "3   Monday   pay  61443\n",
       "5  Tuesday  cart  82826"
      ]
     },
     "execution_count": 102,
     "metadata": {},
     "output_type": "execute_result"
    }
   ],
   "source": [
    "tdw_line = tdw_line[~(tdw_line['type']=='pv')]\n",
    "tdw_line.head()"
   ]
  },
  {
   "cell_type": "code",
   "execution_count": 103,
   "id": "8bd7397d",
   "metadata": {},
   "outputs": [
    {
     "data": {
      "text/html": [
       "<div>\n",
       "<style scoped>\n",
       "    .dataframe tbody tr th:only-of-type {\n",
       "        vertical-align: middle;\n",
       "    }\n",
       "\n",
       "    .dataframe tbody tr th {\n",
       "        vertical-align: top;\n",
       "    }\n",
       "\n",
       "    .dataframe thead th {\n",
       "        text-align: right;\n",
       "    }\n",
       "</style>\n",
       "<table border=\"1\" class=\"dataframe\">\n",
       "  <thead>\n",
       "    <tr style=\"text-align: right;\">\n",
       "      <th></th>\n",
       "      <th>hour</th>\n",
       "      <th>type</th>\n",
       "      <th>Value</th>\n",
       "    </tr>\n",
       "  </thead>\n",
       "  <tbody>\n",
       "    <tr>\n",
       "      <th>0</th>\n",
       "      <td>0</td>\n",
       "      <td>cart</td>\n",
       "      <td>18005</td>\n",
       "    </tr>\n",
       "    <tr>\n",
       "      <th>1</th>\n",
       "      <td>0</td>\n",
       "      <td>comm</td>\n",
       "      <td>3444</td>\n",
       "    </tr>\n",
       "    <tr>\n",
       "      <th>2</th>\n",
       "      <td>0</td>\n",
       "      <td>fav</td>\n",
       "      <td>2514</td>\n",
       "    </tr>\n",
       "    <tr>\n",
       "      <th>3</th>\n",
       "      <td>0</td>\n",
       "      <td>pay</td>\n",
       "      <td>12252</td>\n",
       "    </tr>\n",
       "    <tr>\n",
       "      <th>5</th>\n",
       "      <td>1</td>\n",
       "      <td>cart</td>\n",
       "      <td>7624</td>\n",
       "    </tr>\n",
       "  </tbody>\n",
       "</table>\n",
       "</div>"
      ],
      "text/plain": [
       "   hour  type  Value\n",
       "0     0  cart  18005\n",
       "1     0  comm   3444\n",
       "2     0   fav   2514\n",
       "3     0   pay  12252\n",
       "5     1  cart   7624"
      ]
     },
     "execution_count": 103,
     "metadata": {},
     "output_type": "execute_result"
    }
   ],
   "source": [
    "tdh_line.head()"
   ]
  },
  {
   "cell_type": "code",
   "execution_count": 104,
   "id": "de565f78",
   "metadata": {},
   "outputs": [
    {
     "data": {
      "image/png": "[encoded data removed]",
      "text/plain": [
       "<Figure size 1080x360 with 1 Axes>"
      ]
     },
     "metadata": {
      "needs_background": "light"
     },
     "output_type": "display_data"
    }
   ],
   "source": [
    "sb.pointplot(x = 'hour',y = 'Value',hue = 'type',data =tdh_line )\n",
    "plt.title('user_activity per hour',size = 15)\n",
    "plt.show()"
   ]
  },
  {
   "cell_type": "markdown",
   "id": "17e0b7d2",
   "metadata": {},
   "source": [
    "##### Most people purchased staff soon after putting into the cart. Since less people set favoriate and comment, we can set up some rewards to the buyers after they make comments or favoriate."
   ]
  },
  {
   "cell_type": "code",
   "execution_count": 105,
   "id": "340058ac",
   "metadata": {},
   "outputs": [
    {
     "data": {
      "image/png": "[encoded data removed]",
      "text/plain": [
       "<Figure size 1080x360 with 1 Axes>"
      ]
     },
     "metadata": {
      "needs_background": "light"
     },
     "output_type": "display_data"
    }
   ],
   "source": [
    "sb.pointplot(x = 'week',y = 'Value',hue = 'type',data =tdw_line )\n",
    "plt.title('user_activity per week',size = 15)\n",
    "plt.show()"
   ]
  },
  {
   "cell_type": "markdown",
   "id": "a162dd62",
   "metadata": {},
   "source": [
    "##### The activities are stable betwen Monday and Thurday.It has highest trend between Friday and Saturday. It brings back to normal at Sunday. "
   ]
  },
  {
   "cell_type": "markdown",
   "id": "ed0c8ad6",
   "metadata": {},
   "source": [
    "###### Funnel Conversion Chart"
   ]
  },
  {
   "cell_type": "code",
   "execution_count": 106,
   "id": "6a2c6482",
   "metadata": {},
   "outputs": [
    {
     "name": "stdout",
     "output_type": "stream",
     "text": [
      "Requirement already satisfied: pyecharts in c:\\programdata\\anaconda3\\lib\\site-packages (2.0.3)\n",
      "Requirement already satisfied: jinja2 in c:\\programdata\\anaconda3\\lib\\site-packages (from pyecharts) (2.11.3)\n",
      "Requirement already satisfied: prettytable in c:\\programdata\\anaconda3\\lib\\site-packages (from pyecharts) (3.7.0)\n",
      "Requirement already satisfied: simplejson in c:\\programdata\\anaconda3\\lib\\site-packages (from pyecharts) (3.19.1)\n",
      "Requirement already satisfied: MarkupSafe>=0.23 in c:\\programdata\\anaconda3\\lib\\site-packages (from jinja2->pyecharts) (1.1.1)\n",
      "Requirement already satisfied: wcwidth in c:\\programdata\\anaconda3\\lib\\site-packages (from prettytable->pyecharts) (0.2.5)\n"
     ]
    }
   ],
   "source": [
    "!pip install pyecharts"
   ]
  },
  {
   "cell_type": "code",
   "execution_count": 107,
   "id": "3bed9930",
   "metadata": {},
   "outputs": [],
   "source": [
    "from pyecharts import options as opts\n",
    "from pyecharts.charts import Funnel\n",
    "import math"
   ]
  },
  {
   "cell_type": "code",
   "execution_count": 108,
   "id": "6389253f",
   "metadata": {},
   "outputs": [
    {
     "data": {
      "text/html": [
       "<div>\n",
       "<style scoped>\n",
       "    .dataframe tbody tr th:only-of-type {\n",
       "        vertical-align: middle;\n",
       "    }\n",
       "\n",
       "    .dataframe tbody tr th {\n",
       "        vertical-align: top;\n",
       "    }\n",
       "\n",
       "    .dataframe thead th {\n",
       "        text-align: right;\n",
       "    }\n",
       "</style>\n",
       "<table border=\"1\" class=\"dataframe\">\n",
       "  <thead>\n",
       "    <tr style=\"text-align: right;\">\n",
       "      <th></th>\n",
       "      <th>user_id</th>\n",
       "      <th>sku_id</th>\n",
       "      <th>action_time</th>\n",
       "      <th>type</th>\n",
       "      <th>date</th>\n",
       "      <th>hour</th>\n",
       "      <th>week</th>\n",
       "    </tr>\n",
       "  </thead>\n",
       "  <tbody>\n",
       "    <tr>\n",
       "      <th>0</th>\n",
       "      <td>1455298</td>\n",
       "      <td>208441</td>\n",
       "      <td>2018-04-11 15:21:43</td>\n",
       "      <td>pv</td>\n",
       "      <td>2018-04-11</td>\n",
       "      <td>15</td>\n",
       "      <td>Wednesday</td>\n",
       "    </tr>\n",
       "    <tr>\n",
       "      <th>1</th>\n",
       "      <td>1455298</td>\n",
       "      <td>334318</td>\n",
       "      <td>2018-04-11 15:14:54</td>\n",
       "      <td>pv</td>\n",
       "      <td>2018-04-11</td>\n",
       "      <td>15</td>\n",
       "      <td>Wednesday</td>\n",
       "    </tr>\n",
       "    <tr>\n",
       "      <th>2</th>\n",
       "      <td>1455298</td>\n",
       "      <td>237755</td>\n",
       "      <td>2018-04-11 15:14:13</td>\n",
       "      <td>pv</td>\n",
       "      <td>2018-04-11</td>\n",
       "      <td>15</td>\n",
       "      <td>Wednesday</td>\n",
       "    </tr>\n",
       "    <tr>\n",
       "      <th>3</th>\n",
       "      <td>1455298</td>\n",
       "      <td>6422</td>\n",
       "      <td>2018-04-11 15:22:25</td>\n",
       "      <td>pv</td>\n",
       "      <td>2018-04-11</td>\n",
       "      <td>15</td>\n",
       "      <td>Wednesday</td>\n",
       "    </tr>\n",
       "    <tr>\n",
       "      <th>4</th>\n",
       "      <td>1455298</td>\n",
       "      <td>268566</td>\n",
       "      <td>2018-04-11 15:14:26</td>\n",
       "      <td>pv</td>\n",
       "      <td>2018-04-11</td>\n",
       "      <td>15</td>\n",
       "      <td>Wednesday</td>\n",
       "    </tr>\n",
       "  </tbody>\n",
       "</table>\n",
       "</div>"
      ],
      "text/plain": [
       "   user_id  sku_id          action_time type        date  hour       week\n",
       "0  1455298  208441  2018-04-11 15:21:43   pv  2018-04-11    15  Wednesday\n",
       "1  1455298  334318  2018-04-11 15:14:54   pv  2018-04-11    15  Wednesday\n",
       "2  1455298  237755  2018-04-11 15:14:13   pv  2018-04-11    15  Wednesday\n",
       "3  1455298    6422  2018-04-11 15:22:25   pv  2018-04-11    15  Wednesday\n",
       "4  1455298  268566  2018-04-11 15:14:26   pv  2018-04-11    15  Wednesday"
      ]
     },
     "execution_count": 108,
     "metadata": {},
     "output_type": "execute_result"
    }
   ],
   "source": [
    "behavior_data.head()"
   ]
  },
  {
   "cell_type": "code",
   "execution_count": 109,
   "id": "d7c696a3",
   "metadata": {},
   "outputs": [
    {
     "data": {
      "text/html": [
       "<div>\n",
       "<style scoped>\n",
       "    .dataframe tbody tr th:only-of-type {\n",
       "        vertical-align: middle;\n",
       "    }\n",
       "\n",
       "    .dataframe tbody tr th {\n",
       "        vertical-align: top;\n",
       "    }\n",
       "\n",
       "    .dataframe thead th {\n",
       "        text-align: right;\n",
       "    }\n",
       "</style>\n",
       "<table border=\"1\" class=\"dataframe\">\n",
       "  <thead>\n",
       "    <tr style=\"text-align: right;\">\n",
       "      <th></th>\n",
       "      <th>index</th>\n",
       "      <th>type</th>\n",
       "    </tr>\n",
       "  </thead>\n",
       "  <tbody>\n",
       "    <tr>\n",
       "      <th>0</th>\n",
       "      <td>pv</td>\n",
       "      <td>6229177</td>\n",
       "    </tr>\n",
       "    <tr>\n",
       "      <th>1</th>\n",
       "      <td>cart</td>\n",
       "      <td>533890</td>\n",
       "    </tr>\n",
       "    <tr>\n",
       "      <th>2</th>\n",
       "      <td>pay</td>\n",
       "      <td>480149</td>\n",
       "    </tr>\n",
       "    <tr>\n",
       "      <th>3</th>\n",
       "      <td>comm</td>\n",
       "      <td>200399</td>\n",
       "    </tr>\n",
       "    <tr>\n",
       "      <th>4</th>\n",
       "      <td>fav</td>\n",
       "      <td>96779</td>\n",
       "    </tr>\n",
       "  </tbody>\n",
       "</table>\n",
       "</div>"
      ],
      "text/plain": [
       "  index     type\n",
       "0    pv  6229177\n",
       "1  cart   533890\n",
       "2   pay   480149\n",
       "3  comm   200399\n",
       "4   fav    96779"
      ]
     },
     "execution_count": 109,
     "metadata": {},
     "output_type": "execute_result"
    }
   ],
   "source": [
    "type_dis = behavior_data['type'].value_counts().reset_index()\n",
    "type_dis"
   ]
  },
  {
   "cell_type": "code",
   "execution_count": 110,
   "id": "01e3dded",
   "metadata": {},
   "outputs": [],
   "source": [
    "type_dis['rate'] = round(type_dis.type/type_dis.type.sum(),3)"
   ]
  },
  {
   "cell_type": "code",
   "execution_count": 111,
   "id": "f9722c7f",
   "metadata": {},
   "outputs": [
    {
     "data": {
      "text/html": [
       "<style  type=\"text/css\" >\n",
       "#T_40bcd_row0_col2{\n",
       "            width:  10em;\n",
       "             height:  80%;\n",
       "            background:  linear-gradient(90deg,skyblue 100.0%, transparent 100.0%);\n",
       "        }#T_40bcd_row1_col2{\n",
       "            width:  10em;\n",
       "             height:  80%;\n",
       "            background:  linear-gradient(90deg,skyblue 7.1%, transparent 7.1%);\n",
       "        }#T_40bcd_row2_col2{\n",
       "            width:  10em;\n",
       "             height:  80%;\n",
       "            background:  linear-gradient(90deg,skyblue 6.3%, transparent 6.3%);\n",
       "        }#T_40bcd_row3_col2{\n",
       "            width:  10em;\n",
       "             height:  80%;\n",
       "            background:  linear-gradient(90deg,skyblue 1.7%, transparent 1.7%);\n",
       "        }#T_40bcd_row4_col2{\n",
       "            width:  10em;\n",
       "             height:  80%;\n",
       "        }</style><table id=\"T_40bcd_\" ><thead>    <tr>        <th class=\"blank level0\" ></th>        <th class=\"col_heading level0 col0\" >index</th>        <th class=\"col_heading level0 col1\" >type</th>        <th class=\"col_heading level0 col2\" >rate</th>    </tr></thead><tbody>\n",
       "                <tr>\n",
       "                        <th id=\"T_40bcd_level0_row0\" class=\"row_heading level0 row0\" >0</th>\n",
       "                        <td id=\"T_40bcd_row0_col0\" class=\"data row0 col0\" >pv</td>\n",
       "                        <td id=\"T_40bcd_row0_col1\" class=\"data row0 col1\" >6229177</td>\n",
       "                        <td id=\"T_40bcd_row0_col2\" class=\"data row0 col2\" >0.826000</td>\n",
       "            </tr>\n",
       "            <tr>\n",
       "                        <th id=\"T_40bcd_level0_row1\" class=\"row_heading level0 row1\" >1</th>\n",
       "                        <td id=\"T_40bcd_row1_col0\" class=\"data row1 col0\" >cart</td>\n",
       "                        <td id=\"T_40bcd_row1_col1\" class=\"data row1 col1\" >533890</td>\n",
       "                        <td id=\"T_40bcd_row1_col2\" class=\"data row1 col2\" >0.071000</td>\n",
       "            </tr>\n",
       "            <tr>\n",
       "                        <th id=\"T_40bcd_level0_row2\" class=\"row_heading level0 row2\" >2</th>\n",
       "                        <td id=\"T_40bcd_row2_col0\" class=\"data row2 col0\" >pay</td>\n",
       "                        <td id=\"T_40bcd_row2_col1\" class=\"data row2 col1\" >480149</td>\n",
       "                        <td id=\"T_40bcd_row2_col2\" class=\"data row2 col2\" >0.064000</td>\n",
       "            </tr>\n",
       "            <tr>\n",
       "                        <th id=\"T_40bcd_level0_row3\" class=\"row_heading level0 row3\" >3</th>\n",
       "                        <td id=\"T_40bcd_row3_col0\" class=\"data row3 col0\" >comm</td>\n",
       "                        <td id=\"T_40bcd_row3_col1\" class=\"data row3 col1\" >200399</td>\n",
       "                        <td id=\"T_40bcd_row3_col2\" class=\"data row3 col2\" >0.027000</td>\n",
       "            </tr>\n",
       "            <tr>\n",
       "                        <th id=\"T_40bcd_level0_row4\" class=\"row_heading level0 row4\" >4</th>\n",
       "                        <td id=\"T_40bcd_row4_col0\" class=\"data row4 col0\" >fav</td>\n",
       "                        <td id=\"T_40bcd_row4_col1\" class=\"data row4 col1\" >96779</td>\n",
       "                        <td id=\"T_40bcd_row4_col2\" class=\"data row4 col2\" >0.013000</td>\n",
       "            </tr>\n",
       "    </tbody></table>"
      ],
      "text/plain": [
       "<pandas.io.formats.style.Styler at 0x237ff6b1ee0>"
      ]
     },
     "execution_count": 111,
     "metadata": {},
     "output_type": "execute_result"
    }
   ],
   "source": [
    "type_dis.style.bar(color = 'skyblue',subset ='rate')"
   ]
  },
  {
   "cell_type": "markdown",
   "id": "0c6d6304",
   "metadata": {},
   "source": [
    "##### Majority people just viewed the products. Less people made comments and saved them. We should improve the mutual connection between the website and customers. "
   ]
  },
  {
   "cell_type": "code",
   "execution_count": 112,
   "id": "e6dac8e1",
   "metadata": {},
   "outputs": [],
   "source": [
    "df_con = behavior_data[['user_id','sku_id','action_time','type']]"
   ]
  },
  {
   "cell_type": "code",
   "execution_count": 113,
   "id": "46329b7d",
   "metadata": {},
   "outputs": [],
   "source": [
    "df_pv = df_con[df_con['type']=='pv']\n",
    "df_cart = df_con[df_con['type']=='cart']\n",
    "df_pay = df_con[df_con['type']=='pay']\n",
    "df_comm = df_con[df_con['type']=='comm']\n",
    "df_fav = df_con[df_con['type']=='fav']"
   ]
  },
  {
   "cell_type": "code",
   "execution_count": 114,
   "id": "faa2bdbe",
   "metadata": {},
   "outputs": [],
   "source": [
    "df_pv_unid = df_con[df_con['type']=='pv']['user_id'].unique()\n",
    "df_cart_unid = df_con[df_con['type']=='cart']['user_id'].unique()\n",
    "df_pay_unid = df_con[df_con['type']=='pay']['user_id'].unique()\n",
    "df_comm_unid = df_con[df_con['type']=='comm']['user_id'].unique()\n",
    "df_fav_unid = df_con[df_con['type']=='fav']['user_id'].unique()"
   ]
  },
  {
   "cell_type": "code",
   "execution_count": 115,
   "id": "03a183ea",
   "metadata": {},
   "outputs": [],
   "source": [
    "fav_cart_list = set(df_fav_unid)|set(df_pv_unid)\n",
    "pv_pay_df = pd.merge(df_pv,df_pay,how ='inner',on = ['user_id','sku_id'],suffixes=['_pv','_pay'])\n",
    "pv_pay_df = pv_pay_df[(pv_pay_df['user_id'].isin(fav_cart_list))&(pv_pay_df.action_time_pay<pv_pay_df.action_time_pv)]"
   ]
  },
  {
   "cell_type": "code",
   "execution_count": 116,
   "id": "7aa89b3f",
   "metadata": {},
   "outputs": [],
   "source": [
    "uv = behavior_data['user_id'].nunique()\n",
    "pv_pay_num = pv_pay_df['user_id'].nunique()\n",
    "pv_pay_data = pd.DataFrame({'type':['View','Pay'],'Num':[uv,pv_pay_num]})\n",
    "pv_pay_data['Conversation Rate']= round(pv_pay_data['Num']/pv_pay_data['Num'][0],4)*100"
   ]
  },
  {
   "cell_type": "code",
   "execution_count": 117,
   "id": "fc743a8e",
   "metadata": {},
   "outputs": [],
   "source": [
    "attr1 = list(pv_pay_data.type)\n",
    "values1 = list(pv_pay_data['Conversation Rate'])\n",
    "data1 = [[attr1[i],values1[i]] for i in range(len(attr1))]"
   ]
  },
  {
   "cell_type": "code",
   "execution_count": 118,
   "id": "395b1933",
   "metadata": {
    "scrolled": true
   },
   "outputs": [
    {
     "data": {
      "text/html": [
       "\n",
       "<script>\n",
       "    require.config({\n",
       "        paths: {\n",
       "            'echarts':'https://assets.pyecharts.org/assets/v5/echarts.min'\n",
       "        }\n",
       "    });\n",
       "</script>\n",
       "\n",
       "        <div id=\"0d803f7beabb4357986835261a9e1107\" style=\"width:700px; height:400px;\"></div>\n",
       "\n",
       "<script>\n",
       "        require(['echarts'], function(echarts) {\n",
       "                var chart_0d803f7beabb4357986835261a9e1107 = echarts.init(\n",
       "                    document.getElementById('0d803f7beabb4357986835261a9e1107'), 'white', {renderer: 'canvas'});\n",
       "                var option_0d803f7beabb4357986835261a9e1107 = {\n",
       "    \"animation\": true,\n",
       "    \"animationThreshold\": 2000,\n",
       "    \"animationDuration\": 1000,\n",
       "    \"animationEasing\": \"cubicOut\",\n",
       "    \"animationDelay\": 0,\n",
       "    \"animationDurationUpdate\": 300,\n",
       "    \"animationEasingUpdate\": \"cubicOut\",\n",
       "    \"animationDelayUpdate\": 0,\n",
       "    \"aria\": {\n",
       "        \"enabled\": false\n",
       "    },\n",
       "    \"color\": [\n",
       "        \"#5470c6\",\n",
       "        \"#91cc75\",\n",
       "        \"#fac858\",\n",
       "        \"#ee6666\",\n",
       "        \"#73c0de\",\n",
       "        \"#3ba272\",\n",
       "        \"#fc8452\",\n",
       "        \"#9a60b4\",\n",
       "        \"#ea7ccc\"\n",
       "    ],\n",
       "    \"series\": [\n",
       "        {\n",
       "            \"type\": \"funnel\",\n",
       "            \"data\": [\n",
       "                {\n",
       "                    \"name\": \"View\",\n",
       "                    \"value\": 100.0\n",
       "                },\n",
       "                {\n",
       "                    \"name\": \"Pay\",\n",
       "                    \"value\": 15.85\n",
       "                }\n",
       "            ],\n",
       "            \"sort\": \"descending\",\n",
       "            \"gap\": 2,\n",
       "            \"label\": {\n",
       "                \"show\": true,\n",
       "                \"position\": \"inside\",\n",
       "                \"margin\": 8\n",
       "            },\n",
       "            \"tooltip\": {\n",
       "                \"show\": true,\n",
       "                \"trigger\": \"item\",\n",
       "                \"triggerOn\": \"mousemove|click\",\n",
       "                \"axisPointer\": {\n",
       "                    \"type\": \"line\"\n",
       "                },\n",
       "                \"showContent\": true,\n",
       "                \"alwaysShowContent\": false,\n",
       "                \"showDelay\": 0,\n",
       "                \"hideDelay\": 100,\n",
       "                \"enterable\": false,\n",
       "                \"confine\": false,\n",
       "                \"appendToBody\": false,\n",
       "                \"transitionDuration\": 0.4,\n",
       "                \"formatter\": \"{b}:{c}%\",\n",
       "                \"textStyle\": {\n",
       "                    \"fontSize\": 14\n",
       "                },\n",
       "                \"borderWidth\": 0,\n",
       "                \"padding\": 5,\n",
       "                \"order\": \"seriesAsc\"\n",
       "            },\n",
       "            \"itemStyle\": {\n",
       "                \"borderColor\": \"#fff\",\n",
       "                \"borderWidth\": 1\n",
       "            }\n",
       "        }\n",
       "    ],\n",
       "    \"legend\": [\n",
       "        {\n",
       "            \"data\": [\n",
       "                \"Pay\",\n",
       "                \"View\"\n",
       "            ],\n",
       "            \"selected\": {},\n",
       "            \"show\": true,\n",
       "            \"padding\": 5,\n",
       "            \"itemGap\": 10,\n",
       "            \"itemWidth\": 25,\n",
       "            \"itemHeight\": 14,\n",
       "            \"backgroundColor\": \"transparent\",\n",
       "            \"borderColor\": \"#ccc\",\n",
       "            \"borderWidth\": 1,\n",
       "            \"borderRadius\": 0,\n",
       "            \"pageButtonItemGap\": 5,\n",
       "            \"pageButtonPosition\": \"end\",\n",
       "            \"pageFormatter\": \"{current}/{total}\",\n",
       "            \"pageIconColor\": \"#2f4554\",\n",
       "            \"pageIconInactiveColor\": \"#aaa\",\n",
       "            \"pageIconSize\": 15,\n",
       "            \"animationDurationUpdate\": 800,\n",
       "            \"selector\": false,\n",
       "            \"selectorPosition\": \"auto\",\n",
       "            \"selectorItemGap\": 7,\n",
       "            \"selectorButtonGap\": 10\n",
       "        }\n",
       "    ],\n",
       "    \"tooltip\": {\n",
       "        \"show\": true,\n",
       "        \"trigger\": \"item\",\n",
       "        \"triggerOn\": \"mousemove|click\",\n",
       "        \"axisPointer\": {\n",
       "            \"type\": \"line\"\n",
       "        },\n",
       "        \"showContent\": true,\n",
       "        \"alwaysShowContent\": false,\n",
       "        \"showDelay\": 0,\n",
       "        \"hideDelay\": 100,\n",
       "        \"enterable\": false,\n",
       "        \"confine\": false,\n",
       "        \"appendToBody\": false,\n",
       "        \"transitionDuration\": 0.4,\n",
       "        \"textStyle\": {\n",
       "            \"fontSize\": 14\n",
       "        },\n",
       "        \"borderWidth\": 0,\n",
       "        \"padding\": 5,\n",
       "        \"order\": \"seriesAsc\"\n",
       "    },\n",
       "    \"title\": [\n",
       "        {\n",
       "            \"show\": true,\n",
       "            \"text\": \"Funnel for customer behavior\",\n",
       "            \"target\": \"blank\",\n",
       "            \"subtarget\": \"blank\",\n",
       "            \"padding\": 5,\n",
       "            \"itemGap\": 10,\n",
       "            \"textAlign\": \"auto\",\n",
       "            \"textVerticalAlign\": \"auto\",\n",
       "            \"triggerEvent\": false\n",
       "        }\n",
       "    ]\n",
       "};\n",
       "                chart_0d803f7beabb4357986835261a9e1107.setOption(option_0d803f7beabb4357986835261a9e1107);\n",
       "        });\n",
       "    </script>\n"
      ],
      "text/plain": [
       "<pyecharts.render.display.HTML at 0x2380093ed00>"
      ]
     },
     "execution_count": 118,
     "metadata": {},
     "output_type": "execute_result"
    }
   ],
   "source": [
    "pv_pay = Funnel(opts.InitOpts(width='700px',height = '400px')).add(series_name='',data_pair=data1,gap = 2,\n",
    "        tooltip_opts = opts.TooltipOpts(trigger = 'item',formatter =\"{b}:{c}%\"),\n",
    "        label_opts = opts.LabelOpts(is_show=True,position = 'inside'),\n",
    "        itemstyle_opts= opts.ItemStyleOpts(border_color=\"#fff\", border_width=1)).set_global_opts(title_opts=opts.TitleOpts(title = 'Funnel for customer behavior'))\n",
    "pv_pay.render_notebook()"
   ]
  },
  {
   "cell_type": "markdown",
   "id": "2d9bfe8e",
   "metadata": {},
   "source": [
    "#### pv-cart-pay"
   ]
  },
  {
   "cell_type": "code",
   "execution_count": 131,
   "id": "3e48c77b",
   "metadata": {},
   "outputs": [],
   "source": [
    "pv_cart_df = pd.merge(left = df_pv,right = df_cart,how = 'inner',on = ['user_id','sku_id'],suffixes=['_view','_cart'])\n",
    "pv_cart_df = pv_cart_df[pv_cart_df['action_time_view']<=pv_cart_df['action_time_cart']]\n",
    "pv_cart_df = pv_cart_df[~pv_cart_df['user_id'].isin(df_fav_unid)]"
   ]
  },
  {
   "cell_type": "code",
   "execution_count": 136,
   "id": "5343ef91",
   "metadata": {},
   "outputs": [],
   "source": [
    "pv_cart_pay_df=pd.merge(pv_cart_df,pv_pay_df,how ='inner',on = ['user_id','sku_id'])\n",
    "pv_cart_pay_df = pv_cart_pay_df[pv_cart_pay_df['action_time_cart']<=pv_cart_pay_df['action_time_pay']]"
   ]
  },
  {
   "cell_type": "code",
   "execution_count": 134,
   "id": "3eda24d1",
   "metadata": {},
   "outputs": [
    {
     "data": {
      "text/html": [
       "<div>\n",
       "<style scoped>\n",
       "    .dataframe tbody tr th:only-of-type {\n",
       "        vertical-align: middle;\n",
       "    }\n",
       "\n",
       "    .dataframe tbody tr th {\n",
       "        vertical-align: top;\n",
       "    }\n",
       "\n",
       "    .dataframe thead th {\n",
       "        text-align: right;\n",
       "    }\n",
       "</style>\n",
       "<table border=\"1\" class=\"dataframe\">\n",
       "  <thead>\n",
       "    <tr style=\"text-align: right;\">\n",
       "      <th></th>\n",
       "      <th>user_id</th>\n",
       "      <th>sku_id</th>\n",
       "      <th>action_time_view</th>\n",
       "      <th>type_view</th>\n",
       "      <th>action_time_cart</th>\n",
       "      <th>type_cart</th>\n",
       "      <th>action_time_pv</th>\n",
       "      <th>type_pv</th>\n",
       "      <th>action_time_pay</th>\n",
       "      <th>type_pay</th>\n",
       "    </tr>\n",
       "  </thead>\n",
       "  <tbody>\n",
       "    <tr>\n",
       "      <th>0</th>\n",
       "      <td>1103962</td>\n",
       "      <td>37707</td>\n",
       "      <td>2018-04-11 13:29:53</td>\n",
       "      <td>pv</td>\n",
       "      <td>2018-04-11 16:04:06</td>\n",
       "      <td>cart</td>\n",
       "      <td>2018-04-11 16:03:32</td>\n",
       "      <td>pv</td>\n",
       "      <td>2018-04-11 13:45:55.0</td>\n",
       "      <td>pay</td>\n",
       "    </tr>\n",
       "    <tr>\n",
       "      <th>1</th>\n",
       "      <td>1103962</td>\n",
       "      <td>37707</td>\n",
       "      <td>2018-04-11 13:29:53</td>\n",
       "      <td>pv</td>\n",
       "      <td>2018-04-11 16:04:06</td>\n",
       "      <td>cart</td>\n",
       "      <td>2018-04-12 15:05:06</td>\n",
       "      <td>pv</td>\n",
       "      <td>2018-04-11 13:45:55.0</td>\n",
       "      <td>pay</td>\n",
       "    </tr>\n",
       "    <tr>\n",
       "      <th>2</th>\n",
       "      <td>1103962</td>\n",
       "      <td>37707</td>\n",
       "      <td>2018-04-11 13:29:53</td>\n",
       "      <td>pv</td>\n",
       "      <td>2018-04-11 16:04:06</td>\n",
       "      <td>cart</td>\n",
       "      <td>2018-04-12 15:05:06</td>\n",
       "      <td>pv</td>\n",
       "      <td>2018-04-11 16:04:41.0</td>\n",
       "      <td>pay</td>\n",
       "    </tr>\n",
       "    <tr>\n",
       "      <th>3</th>\n",
       "      <td>1103962</td>\n",
       "      <td>37707</td>\n",
       "      <td>2018-04-11 13:29:53</td>\n",
       "      <td>pv</td>\n",
       "      <td>2018-04-11 13:34:49</td>\n",
       "      <td>cart</td>\n",
       "      <td>2018-04-11 16:03:32</td>\n",
       "      <td>pv</td>\n",
       "      <td>2018-04-11 13:45:55.0</td>\n",
       "      <td>pay</td>\n",
       "    </tr>\n",
       "    <tr>\n",
       "      <th>4</th>\n",
       "      <td>1103962</td>\n",
       "      <td>37707</td>\n",
       "      <td>2018-04-11 13:29:53</td>\n",
       "      <td>pv</td>\n",
       "      <td>2018-04-11 13:34:49</td>\n",
       "      <td>cart</td>\n",
       "      <td>2018-04-12 15:05:06</td>\n",
       "      <td>pv</td>\n",
       "      <td>2018-04-11 13:45:55.0</td>\n",
       "      <td>pay</td>\n",
       "    </tr>\n",
       "  </tbody>\n",
       "</table>\n",
       "</div>"
      ],
      "text/plain": [
       "   user_id  sku_id     action_time_view type_view     action_time_cart  \\\n",
       "0  1103962   37707  2018-04-11 13:29:53        pv  2018-04-11 16:04:06   \n",
       "1  1103962   37707  2018-04-11 13:29:53        pv  2018-04-11 16:04:06   \n",
       "2  1103962   37707  2018-04-11 13:29:53        pv  2018-04-11 16:04:06   \n",
       "3  1103962   37707  2018-04-11 13:29:53        pv  2018-04-11 13:34:49   \n",
       "4  1103962   37707  2018-04-11 13:29:53        pv  2018-04-11 13:34:49   \n",
       "\n",
       "  type_cart       action_time_pv type_pv        action_time_pay type_pay  \n",
       "0      cart  2018-04-11 16:03:32      pv  2018-04-11 13:45:55.0      pay  \n",
       "1      cart  2018-04-12 15:05:06      pv  2018-04-11 13:45:55.0      pay  \n",
       "2      cart  2018-04-12 15:05:06      pv  2018-04-11 16:04:41.0      pay  \n",
       "3      cart  2018-04-11 16:03:32      pv  2018-04-11 13:45:55.0      pay  \n",
       "4      cart  2018-04-12 15:05:06      pv  2018-04-11 13:45:55.0      pay  "
      ]
     },
     "execution_count": 134,
     "metadata": {},
     "output_type": "execute_result"
    }
   ],
   "source": [
    "pv_cart_pay_df.head()"
   ]
  },
  {
   "cell_type": "code",
   "execution_count": 140,
   "id": "9a8d1021",
   "metadata": {},
   "outputs": [
    {
     "data": {
      "text/html": [
       "<div>\n",
       "<style scoped>\n",
       "    .dataframe tbody tr th:only-of-type {\n",
       "        vertical-align: middle;\n",
       "    }\n",
       "\n",
       "    .dataframe tbody tr th {\n",
       "        vertical-align: top;\n",
       "    }\n",
       "\n",
       "    .dataframe thead th {\n",
       "        text-align: right;\n",
       "    }\n",
       "</style>\n",
       "<table border=\"1\" class=\"dataframe\">\n",
       "  <thead>\n",
       "    <tr style=\"text-align: right;\">\n",
       "      <th></th>\n",
       "      <th>type</th>\n",
       "      <th>num</th>\n",
       "    </tr>\n",
       "  </thead>\n",
       "  <tbody>\n",
       "    <tr>\n",
       "      <th>0</th>\n",
       "      <td>view</td>\n",
       "      <td>728959</td>\n",
       "    </tr>\n",
       "    <tr>\n",
       "      <th>1</th>\n",
       "      <td>cart</td>\n",
       "      <td>155750</td>\n",
       "    </tr>\n",
       "    <tr>\n",
       "      <th>2</th>\n",
       "      <td>pay</td>\n",
       "      <td>25857</td>\n",
       "    </tr>\n",
       "  </tbody>\n",
       "</table>\n",
       "</div>"
      ],
      "text/plain": [
       "   type     num\n",
       "0  view  728959\n",
       "1  cart  155750\n",
       "2   pay   25857"
      ]
     },
     "execution_count": 140,
     "metadata": {},
     "output_type": "execute_result"
    }
   ],
   "source": [
    "uv = behavior_data['user_id'].nunique()\n",
    "pv_cart_num = pv_cart_df['user_id'].nunique()\n",
    "pv_cart_pay_num = pv_cart_pay_df['user_id'].nunique()\n",
    "pv_cart_pay_data = pd.DataFrame({'type':['view','cart','pay'],'num':[uv,pv_cart_num,pv_cart_pay_num]})\n",
    "pv_cart_pay_data "
   ]
  },
  {
   "cell_type": "code",
   "execution_count": 144,
   "id": "168f4f8f",
   "metadata": {},
   "outputs": [],
   "source": [
    "pv_cart_pay_data['convertion_rate']=round(pv_cart_pay_data['num']/pv_cart_pay_data['num'][0],4)*100"
   ]
  },
  {
   "cell_type": "code",
   "execution_count": 145,
   "id": "6410df12",
   "metadata": {},
   "outputs": [
    {
     "data": {
      "text/html": [
       "<div>\n",
       "<style scoped>\n",
       "    .dataframe tbody tr th:only-of-type {\n",
       "        vertical-align: middle;\n",
       "    }\n",
       "\n",
       "    .dataframe tbody tr th {\n",
       "        vertical-align: top;\n",
       "    }\n",
       "\n",
       "    .dataframe thead th {\n",
       "        text-align: right;\n",
       "    }\n",
       "</style>\n",
       "<table border=\"1\" class=\"dataframe\">\n",
       "  <thead>\n",
       "    <tr style=\"text-align: right;\">\n",
       "      <th></th>\n",
       "      <th>type</th>\n",
       "      <th>num</th>\n",
       "      <th>convertion_rate</th>\n",
       "    </tr>\n",
       "  </thead>\n",
       "  <tbody>\n",
       "    <tr>\n",
       "      <th>0</th>\n",
       "      <td>view</td>\n",
       "      <td>728959</td>\n",
       "      <td>100.00</td>\n",
       "    </tr>\n",
       "    <tr>\n",
       "      <th>1</th>\n",
       "      <td>cart</td>\n",
       "      <td>155750</td>\n",
       "      <td>21.37</td>\n",
       "    </tr>\n",
       "    <tr>\n",
       "      <th>2</th>\n",
       "      <td>pay</td>\n",
       "      <td>25857</td>\n",
       "      <td>3.55</td>\n",
       "    </tr>\n",
       "  </tbody>\n",
       "</table>\n",
       "</div>"
      ],
      "text/plain": [
       "   type     num  convertion_rate\n",
       "0  view  728959           100.00\n",
       "1  cart  155750            21.37\n",
       "2   pay   25857             3.55"
      ]
     },
     "execution_count": 145,
     "metadata": {},
     "output_type": "execute_result"
    }
   ],
   "source": [
    "pv_cart_pay_data"
   ]
  },
  {
   "cell_type": "code",
   "execution_count": 149,
   "id": "45df60f8",
   "metadata": {},
   "outputs": [],
   "source": [
    "attr2 = list(pv_cart_pay_data['type'])\n",
    "values = list(pv_cart_pay_data['convertion_rate'])\n",
    "data2 = [[attr2[i],values[i]] for i in range(len(attr2))]"
   ]
  },
  {
   "cell_type": "code",
   "execution_count": 183,
   "id": "c09def51",
   "metadata": {},
   "outputs": [],
   "source": [
    "pv_cart_buy= (Funnel(opts.InitOpts(width='700px',height = '400px'))).add(series_name = \"\",data_pair=data2,\n",
    "                                                                         gap=2,\n",
    "                                                                         tooltip_opts=opts.TooltipOpts(trigger=\"item\",formatter=\"{b}:{c}%\"),\n",
    "                                                                        label_opts=opts.LabelOpts(is_show=True,position=\"left\"),\n",
    "                                                                        itemstyle_opts=opts.ItemStyleOpts(border_color=\"#fff\",border_width=1)).set_global_opts(\n",
    "title_opts=opts.TitleOpts(title = 'Funnel for user behavior'))"
   ]
  },
  {
   "cell_type": "code",
   "execution_count": 184,
   "id": "061876c5",
   "metadata": {},
   "outputs": [
    {
     "data": {
      "text/html": [
       "\n",
       "<script>\n",
       "    require.config({\n",
       "        paths: {\n",
       "            'echarts':'https://assets.pyecharts.org/assets/v5/echarts.min'\n",
       "        }\n",
       "    });\n",
       "</script>\n",
       "\n",
       "        <div id=\"a8564ae9d87549db9cefe4677c6bfee8\" style=\"width:700px; height:400px;\"></div>\n",
       "\n",
       "<script>\n",
       "        require(['echarts'], function(echarts) {\n",
       "                var chart_a8564ae9d87549db9cefe4677c6bfee8 = echarts.init(\n",
       "                    document.getElementById('a8564ae9d87549db9cefe4677c6bfee8'), 'white', {renderer: 'canvas'});\n",
       "                var option_a8564ae9d87549db9cefe4677c6bfee8 = {\n",
       "    \"animation\": true,\n",
       "    \"animationThreshold\": 2000,\n",
       "    \"animationDuration\": 1000,\n",
       "    \"animationEasing\": \"cubicOut\",\n",
       "    \"animationDelay\": 0,\n",
       "    \"animationDurationUpdate\": 300,\n",
       "    \"animationEasingUpdate\": \"cubicOut\",\n",
       "    \"animationDelayUpdate\": 0,\n",
       "    \"aria\": {\n",
       "        \"enabled\": false\n",
       "    },\n",
       "    \"color\": [\n",
       "        \"#5470c6\",\n",
       "        \"#91cc75\",\n",
       "        \"#fac858\",\n",
       "        \"#ee6666\",\n",
       "        \"#73c0de\",\n",
       "        \"#3ba272\",\n",
       "        \"#fc8452\",\n",
       "        \"#9a60b4\",\n",
       "        \"#ea7ccc\"\n",
       "    ],\n",
       "    \"series\": [\n",
       "        {\n",
       "            \"type\": \"funnel\",\n",
       "            \"data\": [\n",
       "                {\n",
       "                    \"name\": \"view\",\n",
       "                    \"value\": 100.0\n",
       "                },\n",
       "                {\n",
       "                    \"name\": \"cart\",\n",
       "                    \"value\": 21.37\n",
       "                },\n",
       "                {\n",
       "                    \"name\": \"pay\",\n",
       "                    \"value\": 3.55\n",
       "                }\n",
       "            ],\n",
       "            \"sort\": \"descending\",\n",
       "            \"gap\": 2,\n",
       "            \"label\": {\n",
       "                \"show\": true,\n",
       "                \"position\": \"left\",\n",
       "                \"margin\": 8\n",
       "            },\n",
       "            \"tooltip\": {\n",
       "                \"show\": true,\n",
       "                \"trigger\": \"item\",\n",
       "                \"triggerOn\": \"mousemove|click\",\n",
       "                \"axisPointer\": {\n",
       "                    \"type\": \"line\"\n",
       "                },\n",
       "                \"showContent\": true,\n",
       "                \"alwaysShowContent\": false,\n",
       "                \"showDelay\": 0,\n",
       "                \"hideDelay\": 100,\n",
       "                \"enterable\": false,\n",
       "                \"confine\": false,\n",
       "                \"appendToBody\": false,\n",
       "                \"transitionDuration\": 0.4,\n",
       "                \"formatter\": \"{b}:{c}%\",\n",
       "                \"textStyle\": {\n",
       "                    \"fontSize\": 14\n",
       "                },\n",
       "                \"borderWidth\": 0,\n",
       "                \"padding\": 5,\n",
       "                \"order\": \"seriesAsc\"\n",
       "            },\n",
       "            \"itemStyle\": {\n",
       "                \"borderColor\": \"#fff\",\n",
       "                \"borderWidth\": 1\n",
       "            }\n",
       "        }\n",
       "    ],\n",
       "    \"legend\": [\n",
       "        {\n",
       "            \"data\": [\n",
       "                \"pay\",\n",
       "                \"cart\",\n",
       "                \"view\"\n",
       "            ],\n",
       "            \"selected\": {},\n",
       "            \"show\": true,\n",
       "            \"padding\": 5,\n",
       "            \"itemGap\": 10,\n",
       "            \"itemWidth\": 25,\n",
       "            \"itemHeight\": 14,\n",
       "            \"backgroundColor\": \"transparent\",\n",
       "            \"borderColor\": \"#ccc\",\n",
       "            \"borderWidth\": 1,\n",
       "            \"borderRadius\": 0,\n",
       "            \"pageButtonItemGap\": 5,\n",
       "            \"pageButtonPosition\": \"end\",\n",
       "            \"pageFormatter\": \"{current}/{total}\",\n",
       "            \"pageIconColor\": \"#2f4554\",\n",
       "            \"pageIconInactiveColor\": \"#aaa\",\n",
       "            \"pageIconSize\": 15,\n",
       "            \"animationDurationUpdate\": 800,\n",
       "            \"selector\": false,\n",
       "            \"selectorPosition\": \"auto\",\n",
       "            \"selectorItemGap\": 7,\n",
       "            \"selectorButtonGap\": 10\n",
       "        }\n",
       "    ],\n",
       "    \"tooltip\": {\n",
       "        \"show\": true,\n",
       "        \"trigger\": \"item\",\n",
       "        \"triggerOn\": \"mousemove|click\",\n",
       "        \"axisPointer\": {\n",
       "            \"type\": \"line\"\n",
       "        },\n",
       "        \"showContent\": true,\n",
       "        \"alwaysShowContent\": false,\n",
       "        \"showDelay\": 0,\n",
       "        \"hideDelay\": 100,\n",
       "        \"enterable\": false,\n",
       "        \"confine\": false,\n",
       "        \"appendToBody\": false,\n",
       "        \"transitionDuration\": 0.4,\n",
       "        \"textStyle\": {\n",
       "            \"fontSize\": 14\n",
       "        },\n",
       "        \"borderWidth\": 0,\n",
       "        \"padding\": 5,\n",
       "        \"order\": \"seriesAsc\"\n",
       "    },\n",
       "    \"title\": [\n",
       "        {\n",
       "            \"show\": true,\n",
       "            \"text\": \"Funnel for user behavior\",\n",
       "            \"target\": \"blank\",\n",
       "            \"subtarget\": \"blank\",\n",
       "            \"padding\": 5,\n",
       "            \"itemGap\": 10,\n",
       "            \"textAlign\": \"auto\",\n",
       "            \"textVerticalAlign\": \"auto\",\n",
       "            \"triggerEvent\": false\n",
       "        }\n",
       "    ]\n",
       "};\n",
       "                chart_a8564ae9d87549db9cefe4677c6bfee8.setOption(option_a8564ae9d87549db9cefe4677c6bfee8);\n",
       "        });\n",
       "    </script>\n"
      ],
      "text/plain": [
       "<pyecharts.render.display.HTML at 0x238104174c0>"
      ]
     },
     "execution_count": 184,
     "metadata": {},
     "output_type": "execute_result"
    }
   ],
   "source": [
    "pv_cart_buy.render_notebook()"
   ]
  }
 ],
 "metadata": {
  "kernelspec": {
   "display_name": "Python 3",
   "language": "python",
   "name": "python3"
  },
  "language_info": {
   "codemirror_mode": {
    "name": "ipython",
    "version": 3
   },
   "file_extension": ".py",
   "mimetype": "text/x-python",
   "name": "python",
   "nbconvert_exporter": "python",
   "pygments_lexer": "ipython3",
   "version": "3.8.8"
  }
 },
 "nbformat": 4,
 "nbformat_minor": 5
}
